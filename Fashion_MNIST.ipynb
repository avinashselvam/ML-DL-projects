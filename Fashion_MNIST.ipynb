{
  "nbformat": 4,
  "nbformat_minor": 0,
  "metadata": {
    "colab": {
      "name": "Fashion_MNIST.ipynb",
      "version": "0.3.2",
      "views": {},
      "default_view": {},
      "provenance": [],
      "collapsed_sections": []
    },
    "kernelspec": {
      "name": "python3",
      "display_name": "Python 3"
    },
    "accelerator": "GPU"
  },
  "cells": [
    {
      "metadata": {
        "id": "nrG8OTv8zlgS",
        "colab_type": "code",
        "colab": {
          "autoexec": {
            "startup": false,
            "wait_interval": 0
          },
          "base_uri": "https://localhost:8080/",
          "height": 34
        },
        "outputId": "8277a6af-a2d7-48d7-d834-9d5bc362f478",
        "executionInfo": {
          "status": "ok",
          "timestamp": 1521918519138,
          "user_tz": -330,
          "elapsed": 1811,
          "user": {
            "displayName": "Avinash Selvam",
            "photoUrl": "//lh6.googleusercontent.com/-OWw3sMItg1E/AAAAAAAAAAI/AAAAAAAACUE/mZc3wcAlA_A/s50-c-k-no/photo.jpg",
            "userId": "106485937356478174490"
          }
        }
      },
      "cell_type": "code",
      "source": [
        "from keras.layers import Dense, MaxPooling2D, Conv2D, Dropout\n",
        "from keras.layers import Flatten, InputLayer\n",
        "from keras.layers.normalization import BatchNormalization\n",
        "from keras.models import Sequential\n",
        "from keras.utils import np_utils\n",
        "from keras.initializers import Constant\n",
        "from keras import regularizers"
      ],
      "execution_count": 0,
      "outputs": [
        {
          "output_type": "stream",
          "text": [
            "Using TensorFlow backend.\n"
          ],
          "name": "stderr"
        }
      ]
    },
    {
      "metadata": {
        "id": "k1oSg_ZQJcZa",
        "colab_type": "code",
        "colab": {
          "autoexec": {
            "startup": false,
            "wait_interval": 0
          }
        }
      },
      "cell_type": "code",
      "source": [
        "from keras.datasets import fashion_mnist\n",
        "\n",
        "(x_train, y_train), (x_test, y_test) = fashion_mnist.load_data()"
      ],
      "execution_count": 0,
      "outputs": []
    },
    {
      "metadata": {
        "id": "THBwgQYCOJMr",
        "colab_type": "code",
        "colab": {
          "autoexec": {
            "startup": false,
            "wait_interval": 0
          }
        }
      },
      "cell_type": "code",
      "source": [
        "\n",
        "import numpy as np\n",
        "\n",
        "x_train.flags.writeable = True\n",
        "x_test.flags.writeable = True"
      ],
      "execution_count": 0,
      "outputs": []
    },
    {
      "metadata": {
        "id": "kg70FdQpJDkX",
        "colab_type": "code",
        "colab": {
          "autoexec": {
            "startup": false,
            "wait_interval": 0
          }
        }
      },
      "cell_type": "code",
      "source": [
        "# x_train = np.copy(x_train)\n",
        "# x_test = np.copy(x_test)\n",
        "\n",
        "x_train = x_train.astype('float32')/255\n",
        "x_train = x_train.reshape(x_train.shape[0], 28, 28, 1)\n",
        "\n",
        "x_test = x_test.astype('float32')/255\n",
        "x_test = x_test.reshape(x_test.shape[0], 28, 28, 1)\n",
        "\n",
        "y_train = np_utils.to_categorical(y_train, 10)\n",
        "y_test = np_utils.to_categorical(y_test, 10)"
      ],
      "execution_count": 0,
      "outputs": []
    },
    {
      "metadata": {
        "id": "uaVrH4mmJavn",
        "colab_type": "code",
        "colab": {
          "autoexec": {
            "startup": false,
            "wait_interval": 0
          }
        }
      },
      "cell_type": "code",
      "source": [
        "model = Sequential()\n",
        "\n",
        "input_shape=(28, 28, 1)"
      ],
      "execution_count": 0,
      "outputs": []
    },
    {
      "metadata": {
        "id": "wdx4cZPkOgJq",
        "colab_type": "code",
        "colab": {
          "autoexec": {
            "startup": false,
            "wait_interval": 0
          }
        }
      },
      "cell_type": "code",
      "source": [
        "# model.add(InputLayer(input_shape=(1, 28, 28)))\n",
        "\n",
        "# model.add(BatchNormalization())\n",
        "\n",
        "# model.add(Conv2D(32, (3,3), padding='same',\n",
        "#                  bias_initializer=Constant(0.01),\n",
        "#                  kernel_initializer='random_uniform',\n",
        "#                  input_shape=(1, 28, 28)))\n",
        "\n",
        "# model.add(MaxPool2D(padding='same'))\n",
        "\n",
        "# model.add(Flatten())\n",
        "\n",
        "# model.add(Dense(128, activation='relu',\n",
        "#                 bias_initializer=Constant(0.01),\n",
        "#                 kernel_initializer='random_uniform'))\n",
        "\n",
        "# model.add(Dense(10, activation='softmax'))"
      ],
      "execution_count": 0,
      "outputs": []
    },
    {
      "metadata": {
        "id": "cWh4AdPEWmSQ",
        "colab_type": "code",
        "colab": {
          "autoexec": {
            "startup": false,
            "wait_interval": 0
          }
        }
      },
      "cell_type": "code",
      "source": [
        "model.add(Conv2D(16, kernel_size=(3, 3), activation='relu',\n",
        "                input_shape=input_shape))\n",
        "\n",
        "model.add(MaxPooling2D(pool_size=(2, 2)))\n",
        "\n",
        "model.add(BatchNormalization())\n",
        "\n",
        "model.add(Conv2D(64, kernel_size=(3, 3), activation='relu'))\n",
        "\n",
        "model.add(MaxPooling2D(pool_size=(2, 2)))\n",
        "\n",
        "model.add(BatchNormalization())\n",
        "\n",
        "model.add(Flatten())\n",
        "\n",
        "model.add(Dropout(0.5))\n",
        "\n",
        "model.add(Dense(128, activation='relu',\n",
        "          kernel_regularizer=regularizers.l2(0.01)))\n",
        "\n",
        "model.add(Dropout(0.2))\n",
        "\n",
        "model.add(Dense(10, activation='softmax'))"
      ],
      "execution_count": 0,
      "outputs": []
    },
    {
      "metadata": {
        "id": "sKsPDKG-UpiV",
        "colab_type": "code",
        "colab": {
          "autoexec": {
            "startup": false,
            "wait_interval": 0
          }
        }
      },
      "cell_type": "code",
      "source": [
        "model.compile(loss='categorical_crossentropy',\n",
        "              optimizer='adam',\n",
        "              metrics=['accuracy'])"
      ],
      "execution_count": 0,
      "outputs": []
    },
    {
      "metadata": {
        "id": "HxgSi1oUU2SM",
        "colab_type": "code",
        "colab": {
          "autoexec": {
            "startup": false,
            "wait_interval": 0
          },
          "base_uri": "https://localhost:8080/",
          "height": 1751
        },
        "outputId": "15f10052-3eac-4556-8e74-6fca618b0f81",
        "executionInfo": {
          "status": "ok",
          "timestamp": 1521919607014,
          "user_tz": -330,
          "elapsed": 1070023,
          "user": {
            "displayName": "Avinash Selvam",
            "photoUrl": "//lh6.googleusercontent.com/-OWw3sMItg1E/AAAAAAAAAAI/AAAAAAAACUE/mZc3wcAlA_A/s50-c-k-no/photo.jpg",
            "userId": "106485937356478174490"
          }
        }
      },
      "cell_type": "code",
      "source": [
        "model.fit(x_train, y_train, epochs=50, batch_size=32, validation_data=(x_test, y_test))"
      ],
      "execution_count": 0,
      "outputs": [
        {
          "output_type": "stream",
          "text": [
            "Train on 60000 samples, validate on 10000 samples\n",
            "Epoch 1/50\n",
            "60000/60000 [==============================] - 23s 380us/step - loss: 1.0524 - acc: 0.8231 - val_loss: 0.6375 - val_acc: 0.8621\n",
            "Epoch 2/50\n",
            "25120/60000 [===========>..................] - ETA: 11s - loss: 0.6654 - acc: 0.8557"
          ],
          "name": "stdout"
        },
        {
          "output_type": "stream",
          "text": [
            "60000/60000 [==============================] - 21s 358us/step - loss: 0.6586 - acc: 0.8572 - val_loss: 0.6493 - val_acc: 0.8684\n",
            "Epoch 3/50\n",
            "58080/60000 [============================>.] - ETA: 0s - loss: 0.6384 - acc: 0.8627"
          ],
          "name": "stdout"
        },
        {
          "output_type": "stream",
          "text": [
            "60000/60000 [==============================] - 21s 354us/step - loss: 0.6371 - acc: 0.8629 - val_loss: 0.6065 - val_acc: 0.8700\n",
            "Epoch 4/50\n",
            "60000/60000 [==============================] - 21s 356us/step - loss: 0.6211 - acc: 0.8671 - val_loss: 0.6321 - val_acc: 0.8540\n",
            "Epoch 5/50\n",
            " 6240/60000 [==>...........................] - ETA: 18s - loss: 0.5976 - acc: 0.8702"
          ],
          "name": "stdout"
        },
        {
          "output_type": "stream",
          "text": [
            "60000/60000 [==============================] - 21s 357us/step - loss: 0.6061 - acc: 0.8699 - val_loss: 0.5698 - val_acc: 0.8837\n",
            "Epoch 6/50\n",
            "50816/60000 [========================>.....] - ETA: 3s - loss: 0.5976 - acc: 0.8726"
          ],
          "name": "stdout"
        },
        {
          "output_type": "stream",
          "text": [
            "60000/60000 [==============================] - 21s 357us/step - loss: 0.5982 - acc: 0.8724 - val_loss: 0.6170 - val_acc: 0.8653\n",
            "Epoch 7/50\n",
            "60000/60000 [==============================] - 21s 357us/step - loss: 0.5830 - acc: 0.8757 - val_loss: 0.5622 - val_acc: 0.8804\n",
            "Epoch 8/50\n",
            " 4640/60000 [=>............................] - ETA: 19s - loss: 0.5529 - acc: 0.8849"
          ],
          "name": "stdout"
        },
        {
          "output_type": "stream",
          "text": [
            "60000/60000 [==============================] - 21s 355us/step - loss: 0.5804 - acc: 0.8764 - val_loss: 0.5566 - val_acc: 0.8868\n",
            "Epoch 9/50\n",
            "50336/60000 [========================>.....] - ETA: 3s - loss: 0.5726 - acc: 0.8775"
          ],
          "name": "stdout"
        },
        {
          "output_type": "stream",
          "text": [
            "60000/60000 [==============================] - 21s 356us/step - loss: 0.5759 - acc: 0.8762 - val_loss: 0.5344 - val_acc: 0.8906\n",
            "Epoch 10/50\n",
            "60000/60000 [==============================] - 21s 355us/step - loss: 0.5685 - acc: 0.8790 - val_loss: 0.5603 - val_acc: 0.8799\n",
            "Epoch 11/50\n",
            " 4352/60000 [=>............................] - ETA: 19s - loss: 0.5390 - acc: 0.8879"
          ],
          "name": "stdout"
        },
        {
          "output_type": "stream",
          "text": [
            "60000/60000 [==============================] - 21s 355us/step - loss: 0.5592 - acc: 0.8805 - val_loss: 0.5473 - val_acc: 0.8875\n",
            "Epoch 12/50\n",
            "50080/60000 [========================>.....] - ETA: 3s - loss: 0.5650 - acc: 0.8808"
          ],
          "name": "stdout"
        },
        {
          "output_type": "stream",
          "text": [
            "60000/60000 [==============================] - 21s 356us/step - loss: 0.5656 - acc: 0.8802 - val_loss: 0.5667 - val_acc: 0.8777\n",
            "Epoch 13/50\n",
            "60000/60000 [==============================] - 21s 354us/step - loss: 0.5510 - acc: 0.8812 - val_loss: 0.5719 - val_acc: 0.8694\n",
            "Epoch 14/50\n",
            " 4160/60000 [=>............................] - ETA: 19s - loss: 0.5340 - acc: 0.8837"
          ],
          "name": "stdout"
        },
        {
          "output_type": "stream",
          "text": [
            "60000/60000 [==============================] - 21s 355us/step - loss: 0.5525 - acc: 0.8823 - val_loss: 0.5307 - val_acc: 0.8907\n",
            "Epoch 15/50\n",
            "50016/60000 [========================>.....] - ETA: 3s - loss: 0.5512 - acc: 0.8819"
          ],
          "name": "stdout"
        },
        {
          "output_type": "stream",
          "text": [
            "60000/60000 [==============================] - 21s 355us/step - loss: 0.5523 - acc: 0.8816 - val_loss: 0.5127 - val_acc: 0.8958\n",
            "Epoch 16/50\n",
            "60000/60000 [==============================] - 21s 357us/step - loss: 0.5453 - acc: 0.8831 - val_loss: 0.5409 - val_acc: 0.8806\n",
            "Epoch 17/50\n",
            " 4192/60000 [=>............................] - ETA: 19s - loss: 0.5405 - acc: 0.8853"
          ],
          "name": "stdout"
        },
        {
          "output_type": "stream",
          "text": [
            "60000/60000 [==============================] - 21s 354us/step - loss: 0.5435 - acc: 0.8836 - val_loss: 0.5254 - val_acc: 0.8906\n",
            "Epoch 18/50\n",
            "49952/60000 [=======================>......] - ETA: 3s - loss: 0.5394 - acc: 0.8834"
          ],
          "name": "stdout"
        },
        {
          "output_type": "stream",
          "text": [
            "60000/60000 [==============================] - 21s 354us/step - loss: 0.5372 - acc: 0.8835 - val_loss: 0.5346 - val_acc: 0.8869\n",
            "Epoch 19/50\n",
            "60000/60000 [==============================] - 21s 354us/step - loss: 0.5369 - acc: 0.8854 - val_loss: 0.5133 - val_acc: 0.8931\n",
            "Epoch 20/50\n",
            " 4192/60000 [=>............................] - ETA: 18s - loss: 0.5236 - acc: 0.8865"
          ],
          "name": "stdout"
        },
        {
          "output_type": "stream",
          "text": [
            "60000/60000 [==============================] - 21s 355us/step - loss: 0.5393 - acc: 0.8833 - val_loss: 0.5162 - val_acc: 0.8905\n",
            "Epoch 21/50\n",
            "50016/60000 [========================>.....] - ETA: 3s - loss: 0.5270 - acc: 0.8860"
          ],
          "name": "stdout"
        },
        {
          "output_type": "stream",
          "text": [
            "60000/60000 [==============================] - 21s 354us/step - loss: 0.5299 - acc: 0.8853 - val_loss: 0.5076 - val_acc: 0.8959\n",
            "Epoch 22/50\n",
            "60000/60000 [==============================] - 21s 355us/step - loss: 0.5335 - acc: 0.8874 - val_loss: 0.4991 - val_acc: 0.8949\n",
            "Epoch 23/50\n",
            " 4320/60000 [=>............................] - ETA: 18s - loss: 0.4970 - acc: 0.8933"
          ],
          "name": "stdout"
        },
        {
          "output_type": "stream",
          "text": [
            "60000/60000 [==============================] - 21s 354us/step - loss: 0.5292 - acc: 0.8865 - val_loss: 0.5065 - val_acc: 0.8969\n",
            "Epoch 24/50\n",
            "50016/60000 [========================>.....] - ETA: 3s - loss: 0.5238 - acc: 0.8874"
          ],
          "name": "stdout"
        },
        {
          "output_type": "stream",
          "text": [
            "60000/60000 [==============================] - 21s 354us/step - loss: 0.5221 - acc: 0.8884 - val_loss: 0.5110 - val_acc: 0.8932\n",
            "Epoch 25/50\n",
            "60000/60000 [==============================] - 21s 354us/step - loss: 0.5227 - acc: 0.8877 - val_loss: 0.4927 - val_acc: 0.8951\n",
            "Epoch 26/50\n",
            " 4160/60000 [=>............................] - ETA: 18s - loss: 0.5021 - acc: 0.8904"
          ],
          "name": "stdout"
        },
        {
          "output_type": "stream",
          "text": [
            "60000/60000 [==============================] - 21s 352us/step - loss: 0.5228 - acc: 0.8884 - val_loss: 0.4983 - val_acc: 0.8996\n",
            "Epoch 27/50\n",
            "50176/60000 [========================>.....] - ETA: 3s - loss: 0.5152 - acc: 0.8912"
          ],
          "name": "stdout"
        },
        {
          "output_type": "stream",
          "text": [
            "60000/60000 [==============================] - 21s 355us/step - loss: 0.5186 - acc: 0.8899 - val_loss: 0.5085 - val_acc: 0.8971\n",
            "Epoch 28/50\n",
            "60000/60000 [==============================] - 21s 353us/step - loss: 0.5229 - acc: 0.8884 - val_loss: 0.5294 - val_acc: 0.8765\n",
            "Epoch 29/50\n",
            " 4352/60000 [=>............................] - ETA: 18s - loss: 0.4997 - acc: 0.8886"
          ],
          "name": "stdout"
        },
        {
          "output_type": "stream",
          "text": [
            "60000/60000 [==============================] - 21s 352us/step - loss: 0.5114 - acc: 0.8899 - val_loss: 0.5189 - val_acc: 0.8864\n",
            "Epoch 30/50\n",
            "50272/60000 [========================>.....] - ETA: 3s - loss: 0.5179 - acc: 0.8905"
          ],
          "name": "stdout"
        },
        {
          "output_type": "stream",
          "text": [
            "60000/60000 [==============================] - 21s 356us/step - loss: 0.5179 - acc: 0.8901 - val_loss: 0.4898 - val_acc: 0.8983\n",
            "Epoch 31/50\n",
            "60000/60000 [==============================] - 21s 354us/step - loss: 0.5146 - acc: 0.8909 - val_loss: 0.4984 - val_acc: 0.8977\n",
            "Epoch 32/50\n",
            " 4352/60000 [=>............................] - ETA: 18s - loss: 0.5132 - acc: 0.8980"
          ],
          "name": "stdout"
        },
        {
          "output_type": "stream",
          "text": [
            "60000/60000 [==============================] - 21s 354us/step - loss: 0.5118 - acc: 0.8902 - val_loss: 0.5140 - val_acc: 0.8906\n",
            "Epoch 33/50\n",
            "50112/60000 [========================>.....] - ETA: 3s - loss: 0.5120 - acc: 0.8907"
          ],
          "name": "stdout"
        },
        {
          "output_type": "stream",
          "text": [
            "60000/60000 [==============================] - 21s 353us/step - loss: 0.5122 - acc: 0.8902 - val_loss: 0.4966 - val_acc: 0.8939\n",
            "Epoch 34/50\n",
            "60000/60000 [==============================] - 21s 355us/step - loss: 0.5113 - acc: 0.8909 - val_loss: 0.5198 - val_acc: 0.8901\n",
            "Epoch 35/50\n",
            " 4320/60000 [=>............................] - ETA: 18s - loss: 0.5120 - acc: 0.8931"
          ],
          "name": "stdout"
        },
        {
          "output_type": "stream",
          "text": [
            "60000/60000 [==============================] - 21s 353us/step - loss: 0.5112 - acc: 0.8904 - val_loss: 0.5059 - val_acc: 0.8849\n",
            "Epoch 36/50\n",
            "50048/60000 [========================>.....] - ETA: 3s - loss: 0.5082 - acc: 0.8912"
          ],
          "name": "stdout"
        },
        {
          "output_type": "stream",
          "text": [
            "60000/60000 [==============================] - 21s 353us/step - loss: 0.5070 - acc: 0.8910 - val_loss: 0.4872 - val_acc: 0.9002\n",
            "Epoch 37/50\n",
            "60000/60000 [==============================] - 21s 354us/step - loss: 0.5083 - acc: 0.8918 - val_loss: 0.4782 - val_acc: 0.8996\n",
            "Epoch 38/50\n",
            " 4192/60000 [=>............................] - ETA: 18s - loss: 0.4705 - acc: 0.9024"
          ],
          "name": "stdout"
        },
        {
          "output_type": "stream",
          "text": [
            "60000/60000 [==============================] - 21s 355us/step - loss: 0.5103 - acc: 0.8907 - val_loss: 0.4769 - val_acc: 0.9023\n",
            "Epoch 39/50\n",
            "50144/60000 [========================>.....] - ETA: 3s - loss: 0.5004 - acc: 0.8940"
          ],
          "name": "stdout"
        },
        {
          "output_type": "stream",
          "text": [
            "60000/60000 [==============================] - 21s 355us/step - loss: 0.5044 - acc: 0.8924 - val_loss: 0.5075 - val_acc: 0.8950\n",
            "Epoch 40/50\n",
            "60000/60000 [==============================] - 21s 355us/step - loss: 0.5064 - acc: 0.8923 - val_loss: 0.5065 - val_acc: 0.8909\n",
            "Epoch 41/50\n",
            " 4320/60000 [=>............................] - ETA: 18s - loss: 0.4929 - acc: 0.8940"
          ],
          "name": "stdout"
        },
        {
          "output_type": "stream",
          "text": [
            "60000/60000 [==============================] - 21s 353us/step - loss: 0.5088 - acc: 0.8920 - val_loss: 0.4788 - val_acc: 0.9020\n",
            "Epoch 42/50\n",
            "49952/60000 [=======================>......] - ETA: 3s - loss: 0.4957 - acc: 0.8926"
          ],
          "name": "stdout"
        },
        {
          "output_type": "stream",
          "text": [
            "60000/60000 [==============================] - 21s 356us/step - loss: 0.4990 - acc: 0.8926 - val_loss: 0.5558 - val_acc: 0.8756\n",
            "Epoch 43/50\n",
            "60000/60000 [==============================] - 21s 354us/step - loss: 0.5081 - acc: 0.8920 - val_loss: 0.4922 - val_acc: 0.8931\n",
            "Epoch 44/50\n",
            " 4160/60000 [=>............................] - ETA: 19s - loss: 0.4535 - acc: 0.9024"
          ],
          "name": "stdout"
        },
        {
          "output_type": "stream",
          "text": [
            "60000/60000 [==============================] - 21s 355us/step - loss: 0.5042 - acc: 0.8926 - val_loss: 0.5117 - val_acc: 0.8896\n",
            "Epoch 45/50\n",
            "49888/60000 [=======================>......] - ETA: 3s - loss: 0.4957 - acc: 0.8927"
          ],
          "name": "stdout"
        },
        {
          "output_type": "stream",
          "text": [
            "60000/60000 [==============================] - 22s 363us/step - loss: 0.4989 - acc: 0.8917 - val_loss: 0.5047 - val_acc: 0.8937\n",
            "Epoch 46/50\n",
            "60000/60000 [==============================] - 22s 361us/step - loss: 0.4988 - acc: 0.8934 - val_loss: 0.5003 - val_acc: 0.8900\n",
            "Epoch 47/50\n",
            " 4160/60000 [=>............................] - ETA: 19s - loss: 0.4717 - acc: 0.8998"
          ],
          "name": "stdout"
        },
        {
          "output_type": "stream",
          "text": [
            "60000/60000 [==============================] - 22s 362us/step - loss: 0.5017 - acc: 0.8923 - val_loss: 0.4816 - val_acc: 0.8983\n",
            "Epoch 48/50\n",
            "50048/60000 [========================>.....] - ETA: 3s - loss: 0.5046 - acc: 0.8919"
          ],
          "name": "stdout"
        },
        {
          "output_type": "stream",
          "text": [
            "60000/60000 [==============================] - 22s 360us/step - loss: 0.5049 - acc: 0.8914 - val_loss: 0.4751 - val_acc: 0.8995\n",
            "Epoch 49/50\n",
            "60000/60000 [==============================] - 22s 361us/step - loss: 0.4994 - acc: 0.8932 - val_loss: 0.4754 - val_acc: 0.8993\n",
            "Epoch 50/50\n",
            " 4192/60000 [=>............................] - ETA: 19s - loss: 0.4917 - acc: 0.8991"
          ],
          "name": "stdout"
        },
        {
          "output_type": "stream",
          "text": [
            "60000/60000 [==============================] - 22s 362us/step - loss: 0.5002 - acc: 0.8922 - val_loss: 0.4723 - val_acc: 0.9037\n"
          ],
          "name": "stdout"
        },
        {
          "output_type": "execute_result",
          "data": {
            "text/plain": [
              "<keras.callbacks.History at 0x7f4f7f562a90>"
            ]
          },
          "metadata": {
            "tags": []
          },
          "execution_count": 9
        }
      ]
    },
    {
      "metadata": {
        "id": "06GML0moZtic",
        "colab_type": "code",
        "colab": {
          "autoexec": {
            "startup": false,
            "wait_interval": 0
          }
        }
      },
      "cell_type": "code",
      "source": [
        "model.save_weights('fashion_mnist.h5')"
      ],
      "execution_count": 0,
      "outputs": []
    },
    {
      "metadata": {
        "id": "wsn7U37GgIC_",
        "colab_type": "code",
        "colab": {
          "autoexec": {
            "startup": false,
            "wait_interval": 0
          }
        }
      },
      "cell_type": "code",
      "source": [
        "from google.colab import files\n",
        "\n",
        "files.download('fashion_mnist.h5')"
      ],
      "execution_count": 0,
      "outputs": []
    },
    {
      "metadata": {
        "id": "B_ZlPXokgQls",
        "colab_type": "code",
        "colab": {
          "autoexec": {
            "startup": false,
            "wait_interval": 0
          },
          "base_uri": "https://localhost:8080/",
          "height": 222
        },
        "outputId": "cfae4a69-29e1-4083-d409-f3e79bdcdf65",
        "executionInfo": {
          "status": "ok",
          "timestamp": 1521920407939,
          "user_tz": -330,
          "elapsed": 1993,
          "user": {
            "displayName": "Avinash Selvam",
            "photoUrl": "//lh6.googleusercontent.com/-OWw3sMItg1E/AAAAAAAAAAI/AAAAAAAACUE/mZc3wcAlA_A/s50-c-k-no/photo.jpg",
            "userId": "106485937356478174490"
          }
        }
      },
      "cell_type": "code",
      "source": [
        "!wget https://images-na.ssl-images-amazon.com/images/I/71B7UUwgUFL._UL1500_.jpg"
      ],
      "execution_count": 0,
      "outputs": [
        {
          "output_type": "stream",
          "text": [
            "--2018-03-24 19:33:25--  https://images-na.ssl-images-amazon.com/images/I/71B7UUwgUFL._UL1500_.jpg\r\n",
            "Resolving images-na.ssl-images-amazon.com (images-na.ssl-images-amazon.com)... 13.32.83.134\n",
            "Connecting to images-na.ssl-images-amazon.com (images-na.ssl-images-amazon.com)|13.32.83.134|:443... connected.\n",
            "HTTP request sent, awaiting response... 200 OK\n",
            "Length: 193654 (189K) [image/jpeg]\n",
            "Saving to: ‘71B7UUwgUFL._UL1500_.jpg’\n",
            "\n",
            "71B7UUwgUFL._UL1500 100%[===================>] 189.12K   965KB/s    in 0.2s    \n",
            "\n",
            "2018-03-24 19:33:26 (965 KB/s) - ‘71B7UUwgUFL._UL1500_.jpg’ saved [193654/193654]\n",
            "\n"
          ],
          "name": "stdout"
        }
      ]
    },
    {
      "metadata": {
        "id": "xVOf66ZwhnF6",
        "colab_type": "code",
        "colab": {
          "autoexec": {
            "startup": false,
            "wait_interval": 0
          }
        }
      },
      "cell_type": "code",
      "source": [
        "import cv2"
      ],
      "execution_count": 0,
      "outputs": []
    },
    {
      "metadata": {
        "id": "xjuIJUU_hskA",
        "colab_type": "code",
        "colab": {
          "autoexec": {
            "startup": false,
            "wait_interval": 0
          },
          "base_uri": "https://localhost:8080/",
          "height": 34
        },
        "outputId": "1b4b9441-d383-4dfd-89da-ea9a74423616",
        "executionInfo": {
          "status": "ok",
          "timestamp": 1521920673551,
          "user_tz": -330,
          "elapsed": 813,
          "user": {
            "displayName": "Avinash Selvam",
            "photoUrl": "//lh6.googleusercontent.com/-OWw3sMItg1E/AAAAAAAAAAI/AAAAAAAACUE/mZc3wcAlA_A/s50-c-k-no/photo.jpg",
            "userId": "106485937356478174490"
          }
        }
      },
      "cell_type": "code",
      "source": [
        "img = cv2.imread('71B7UUwgUFL._UL1500_.jpg', 0)\n",
        "img = cv2.resize(img, (28, 28))\n",
        "img = np.reshape(img, (1,28,28,1))\n",
        "prediction = model.predict(img)\n",
        "\n",
        "print(np.argmax(prediction))\n"
      ],
      "execution_count": 0,
      "outputs": [
        {
          "output_type": "stream",
          "text": [
            "2\n"
          ],
          "name": "stdout"
        }
      ]
    },
    {
      "metadata": {
        "id": "5i5L76A_iffW",
        "colab_type": "code",
        "colab": {
          "autoexec": {
            "startup": false,
            "wait_interval": 0
          }
        }
      },
      "cell_type": "code",
      "source": [
        ""
      ],
      "execution_count": 0,
      "outputs": []
    }
  ]
}