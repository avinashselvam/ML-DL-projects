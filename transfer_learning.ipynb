{
  "nbformat": 4,
  "nbformat_minor": 0,
  "metadata": {
    "colab": {
      "name": "transfer_learning.ipynb",
      "version": "0.3.2",
      "views": {},
      "default_view": {},
      "provenance": []
    },
    "kernelspec": {
      "display_name": "Python 2",
      "language": "python",
      "name": "python2"
    },
    "accelerator": "GPU"
  },
  "cells": [
    {
      "metadata": {
        "id": "fUnLmL3rZ-oc",
        "colab_type": "text"
      },
      "cell_type": "markdown",
      "source": [
        "# Transfer learning with VGG16"
      ]
    },
    {
      "metadata": {
        "id": "Rz9YXUq9aJWA",
        "colab_type": "code",
        "colab": {
          "autoexec": {
            "startup": false,
            "wait_interval": 0
          },
          "base_uri": "https://localhost:8080/",
          "height": 34
        },
        "outputId": "c9a80766-7d94-4243-e383-aa4fb9363bd2",
        "executionInfo": {
          "status": "ok",
          "timestamp": 1520583525566,
          "user_tz": -330,
          "elapsed": 8818,
          "user": {
            "displayName": "Avinash Selvam",
            "photoUrl": "//lh6.googleusercontent.com/-OWw3sMItg1E/AAAAAAAAAAI/AAAAAAAAAh4/CZwfXx18yUg/s50-c-k-no/photo.jpg",
            "userId": "106485937356478174490"
          }
        }
      },
      "cell_type": "code",
      "source": [
        "# https://keras.io/\n",
        "!pip install -q keras\n",
        "import keras"
      ],
      "execution_count": 0,
      "outputs": [
        {
          "output_type": "stream",
          "text": [
            "Using TensorFlow backend.\n"
          ],
          "name": "stderr"
        }
      ]
    },
    {
      "metadata": {
        "id": "twdoqTHO1hjY",
        "colab_type": "code",
        "colab": {
          "autoexec": {
            "startup": false,
            "wait_interval": 0
          },
          "base_uri": "https://localhost:8080/",
          "height": 272
        },
        "outputId": "fdcf0f6f-ca24-4b4b-a70a-6472672196bc",
        "executionInfo": {
          "status": "ok",
          "timestamp": 1520583567614,
          "user_tz": -330,
          "elapsed": 1366,
          "user": {
            "displayName": "Avinash Selvam",
            "photoUrl": "//lh6.googleusercontent.com/-OWw3sMItg1E/AAAAAAAAAAI/AAAAAAAAAh4/CZwfXx18yUg/s50-c-k-no/photo.jpg",
            "userId": "106485937356478174490"
          }
        }
      },
      "cell_type": "code",
      "source": [
        "from tensorflow.python.client import device_lib\n",
        "print(device_lib.list_local_devices())"
      ],
      "execution_count": 0,
      "outputs": [
        {
          "output_type": "stream",
          "text": [
            "[name: \"/device:CPU:0\"\n",
            "device_type: \"CPU\"\n",
            "memory_limit: 268435456\n",
            "locality {\n",
            "}\n",
            "incarnation: 7541595806790781323\n",
            ", name: \"/device:GPU:0\"\n",
            "device_type: \"GPU\"\n",
            "memory_limit: 11297803469\n",
            "locality {\n",
            "  bus_id: 1\n",
            "}\n",
            "incarnation: 7535197879540138320\n",
            "physical_device_desc: \"device: 0, name: Tesla K80, pci bus id: 0000:00:04.0, compute capability: 3.7\"\n",
            "]\n"
          ],
          "name": "stdout"
        }
      ]
    },
    {
      "metadata": {
        "id": "5qV3u6CHQJ-B",
        "colab_type": "code",
        "colab": {
          "autoexec": {
            "startup": false,
            "wait_interval": 0
          }
        }
      },
      "cell_type": "code",
      "source": [
        "ls"
      ],
      "execution_count": 0,
      "outputs": []
    },
    {
      "metadata": {
        "id": "0DSVdftoiIWk",
        "colab_type": "code",
        "colab": {
          "autoexec": {
            "startup": false,
            "wait_interval": 0
          },
          "base_uri": "https://localhost:8080/",
          "height": 289
        },
        "outputId": "4b8c8edc-215d-46b6-ada5-d24a6121b8de",
        "executionInfo": {
          "status": "ok",
          "timestamp": 1520583582055,
          "user_tz": -330,
          "elapsed": 2617,
          "user": {
            "displayName": "Avinash Selvam",
            "photoUrl": "//lh6.googleusercontent.com/-OWw3sMItg1E/AAAAAAAAAAI/AAAAAAAAAh4/CZwfXx18yUg/s50-c-k-no/photo.jpg",
            "userId": "106485937356478174490"
          }
        }
      },
      "cell_type": "code",
      "source": [
        "!wget train-images-idx3-ubyte.gz"
      ],
      "execution_count": 0,
      "outputs": [
        {
          "output_type": "stream",
          "text": [
            "--2018-03-09 08:19:34--  https://github.com/avinashselvam/datasets/raw/master/data.zip\r\n",
            "Resolving github.com (github.com)... 192.30.253.112, 192.30.253.113\r\n",
            "Connecting to github.com (github.com)|192.30.253.112|:443... connected.\n",
            "HTTP request sent, awaiting response... 302 Found\n",
            "Location: https://raw.githubusercontent.com/avinashselvam/datasets/master/data.zip [following]\n",
            "--2018-03-09 08:19:34--  https://raw.githubusercontent.com/avinashselvam/datasets/master/data.zip\n",
            "Resolving raw.githubusercontent.com (raw.githubusercontent.com)... 151.101.0.133, 151.101.64.133, 151.101.128.133, ...\n",
            "Connecting to raw.githubusercontent.com (raw.githubusercontent.com)|151.101.0.133|:443... connected.\n",
            "HTTP request sent, awaiting response... 200 OK\n",
            "Length: 6450075 (6.2M) [application/zip]\n",
            "Saving to: ‘data.zip’\n",
            "\n",
            "data.zip            100%[===================>]   6.15M  14.8MB/s    in 0.4s    \n",
            "\n",
            "2018-03-09 08:19:35 (14.8 MB/s) - ‘data.zip’ saved [6450075/6450075]\n",
            "\n"
          ],
          "name": "stdout"
        }
      ]
    },
    {
      "metadata": {
        "id": "whaHHr0ozrKK",
        "colab_type": "code",
        "colab": {
          "autoexec": {
            "startup": false,
            "wait_interval": 0
          },
          "base_uri": "https://localhost:8080/",
          "height": 10047
        },
        "outputId": "5f833851-1a97-4e22-be5b-8f435c8f76ea",
        "executionInfo": {
          "status": "ok",
          "timestamp": 1520583608331,
          "user_tz": -330,
          "elapsed": 1137,
          "user": {
            "displayName": "Avinash Selvam",
            "photoUrl": "//lh6.googleusercontent.com/-OWw3sMItg1E/AAAAAAAAAAI/AAAAAAAAAh4/CZwfXx18yUg/s50-c-k-no/photo.jpg",
            "userId": "106485937356478174490"
          }
        }
      },
      "cell_type": "code",
      "source": [
        " !mkdir data1 && unzip data.zip -d catsdogs/"
      ],
      "execution_count": 0,
      "outputs": [
        {
          "output_type": "stream",
          "text": [
            "Archive:  data.zip\r\n",
            "   creating: catsdogs/data/\r\n",
            "   creating: catsdogs/data/valid/\r\n",
            "   creating: catsdogs/data/valid/dogs/\r\n",
            "  inflating: catsdogs/data/valid/dogs/dog.1035.jpg  \r\n",
            "   creating: catsdogs/__MACOSX/\r\n",
            "   creating: catsdogs/__MACOSX/data/\r\n",
            "   creating: catsdogs/__MACOSX/data/valid/\r\n",
            "   creating: catsdogs/__MACOSX/data/valid/dogs/\r\n",
            "  inflating: catsdogs/__MACOSX/data/valid/dogs/._dog.1035.jpg  \r\n",
            "  inflating: catsdogs/data/valid/dogs/dog.1021.jpg  \r\n",
            "  inflating: catsdogs/__MACOSX/data/valid/dogs/._dog.1021.jpg  \r\n",
            "  inflating: catsdogs/data/valid/dogs/dog.1009.jpg  \r\n",
            "  inflating: catsdogs/__MACOSX/data/valid/dogs/._dog.1009.jpg  \r\n",
            "  inflating: catsdogs/data/valid/dogs/dog.1008.jpg  \r\n",
            "  inflating: catsdogs/__MACOSX/data/valid/dogs/._dog.1008.jpg  \r\n",
            "  inflating: catsdogs/data/valid/dogs/dog.1020.jpg  \r\n",
            "  inflating: catsdogs/__MACOSX/data/valid/dogs/._dog.1020.jpg  \r\n",
            "  inflating: catsdogs/data/valid/dogs/dog.1034.jpg  \r\n",
            "  inflating: catsdogs/__MACOSX/data/valid/dogs/._dog.1034.jpg  \r\n",
            "  inflating: catsdogs/data/valid/dogs/dog.1022.jpg  \r\n",
            "  inflating: catsdogs/__MACOSX/data/valid/dogs/._dog.1022.jpg  \r\n",
            "  inflating: catsdogs/data/valid/dogs/dog.1036.jpg  \r\n",
            "  inflating: catsdogs/__MACOSX/data/valid/dogs/._dog.1036.jpg  \r\n",
            "  inflating: catsdogs/data/valid/dogs/dog.1037.jpg  \r\n",
            "  inflating: catsdogs/__MACOSX/data/valid/dogs/._dog.1037.jpg  \r\n",
            "  inflating: catsdogs/data/valid/dogs/dog.1023.jpg  \r\n",
            "  inflating: catsdogs/__MACOSX/data/valid/dogs/._dog.1023.jpg  \r\n",
            "  inflating: catsdogs/data/valid/dogs/dog.1027.jpg  \r\n",
            "  inflating: catsdogs/__MACOSX/data/valid/dogs/._dog.1027.jpg  \r\n",
            "  inflating: catsdogs/data/valid/dogs/dog.1033.jpg  \r\n",
            "  inflating: catsdogs/__MACOSX/data/valid/dogs/._dog.1033.jpg  \r\n",
            "  inflating: catsdogs/data/valid/dogs/.DS_Store  \r\n",
            "  inflating: catsdogs/__MACOSX/data/valid/dogs/._.DS_Store  \r\n",
            "  inflating: catsdogs/data/valid/dogs/dog.1032.jpg  \r\n",
            "  inflating: catsdogs/__MACOSX/data/valid/dogs/._dog.1032.jpg  \r\n",
            "  inflating: catsdogs/data/valid/dogs/dog.1026.jpg  \r\n",
            "  inflating: catsdogs/__MACOSX/data/valid/dogs/._dog.1026.jpg  \r\n",
            "  inflating: catsdogs/data/valid/dogs/dog.1018.jpg  \r\n",
            "  inflating: catsdogs/__MACOSX/data/valid/dogs/._dog.1018.jpg  \r\n",
            "  inflating: catsdogs/data/valid/dogs/dog.1030.jpg  \r\n",
            "  inflating: catsdogs/__MACOSX/data/valid/dogs/._dog.1030.jpg  \r\n",
            "  inflating: catsdogs/data/valid/dogs/dog.1024.jpg  \r\n",
            "  inflating: catsdogs/__MACOSX/data/valid/dogs/._dog.1024.jpg  \r\n",
            "  inflating: catsdogs/data/valid/dogs/dog.1025.jpg  \r\n",
            "  inflating: catsdogs/__MACOSX/data/valid/dogs/._dog.1025.jpg  \r\n",
            "  inflating: catsdogs/data/valid/dogs/dog.1031.jpg  \r\n",
            "  inflating: catsdogs/__MACOSX/data/valid/dogs/._dog.1031.jpg  \r\n",
            "  inflating: catsdogs/data/valid/dogs/dog.1019.jpg  \r\n",
            "  inflating: catsdogs/__MACOSX/data/valid/dogs/._dog.1019.jpg  \r\n",
            "  inflating: catsdogs/data/valid/dogs/dog.1014.jpg  \r\n",
            "  inflating: catsdogs/__MACOSX/data/valid/dogs/._dog.1014.jpg  \r\n",
            "  inflating: catsdogs/data/valid/dogs/dog.1000.jpg  \r\n",
            "  inflating: catsdogs/__MACOSX/data/valid/dogs/._dog.1000.jpg  \r\n",
            "  inflating: catsdogs/data/valid/dogs/dog.1028.jpg  \r\n",
            "  inflating: catsdogs/__MACOSX/data/valid/dogs/._dog.1028.jpg  \r\n",
            "  inflating: catsdogs/data/valid/dogs/dog.1029.jpg  \r\n",
            "  inflating: catsdogs/__MACOSX/data/valid/dogs/._dog.1029.jpg  \r\n",
            "  inflating: catsdogs/data/valid/dogs/dog.1001.jpg  \r\n",
            "  inflating: catsdogs/__MACOSX/data/valid/dogs/._dog.1001.jpg  \r\n",
            "  inflating: catsdogs/data/valid/dogs/dog.1015.jpg  \r\n",
            "  inflating: catsdogs/__MACOSX/data/valid/dogs/._dog.1015.jpg  \r\n",
            "  inflating: catsdogs/data/valid/dogs/dog.1003.jpg  \r\n",
            "  inflating: catsdogs/__MACOSX/data/valid/dogs/._dog.1003.jpg  \r\n",
            "  inflating: catsdogs/data/valid/dogs/dog.1017.jpg  \r\n",
            "  inflating: catsdogs/__MACOSX/data/valid/dogs/._dog.1017.jpg  \r\n",
            "  inflating: catsdogs/data/valid/dogs/dog.1016.jpg  \r\n",
            "  inflating: catsdogs/__MACOSX/data/valid/dogs/._dog.1016.jpg  \r\n",
            "  inflating: catsdogs/data/valid/dogs/dog.1002.jpg  \r\n",
            "  inflating: catsdogs/__MACOSX/data/valid/dogs/._dog.1002.jpg  \r\n",
            "  inflating: catsdogs/data/valid/dogs/dog.1006.jpg  \r\n",
            "  inflating: catsdogs/__MACOSX/data/valid/dogs/._dog.1006.jpg  \r\n",
            "  inflating: catsdogs/data/valid/dogs/dog.1012.jpg  \r\n",
            "  inflating: catsdogs/__MACOSX/data/valid/dogs/._dog.1012.jpg  \r\n",
            "  inflating: catsdogs/data/valid/dogs/dog.1013.jpg  \r\n",
            "  inflating: catsdogs/__MACOSX/data/valid/dogs/._dog.1013.jpg  \r\n",
            "  inflating: catsdogs/data/valid/dogs/dog.1007.jpg  \r\n",
            "  inflating: catsdogs/__MACOSX/data/valid/dogs/._dog.1007.jpg  \r\n",
            "  inflating: catsdogs/data/valid/dogs/dog.1039.jpg  \r\n",
            "  inflating: catsdogs/__MACOSX/data/valid/dogs/._dog.1039.jpg  \r\n",
            "  inflating: catsdogs/data/valid/dogs/dog.1011.jpg  \r\n",
            "  inflating: catsdogs/__MACOSX/data/valid/dogs/._dog.1011.jpg  \r\n",
            "  inflating: catsdogs/data/valid/dogs/dog.1005.jpg  \r\n",
            "  inflating: catsdogs/__MACOSX/data/valid/dogs/._dog.1005.jpg  \r\n",
            "  inflating: catsdogs/data/valid/dogs/dog.1004.jpg  \r\n",
            "  inflating: catsdogs/__MACOSX/data/valid/dogs/._dog.1004.jpg  \r\n",
            "  inflating: catsdogs/data/valid/dogs/dog.1010.jpg  \r\n",
            "  inflating: catsdogs/__MACOSX/data/valid/dogs/._dog.1010.jpg  \r\n",
            "  inflating: catsdogs/data/valid/dogs/dog.1038.jpg  \r\n",
            "  inflating: catsdogs/__MACOSX/data/valid/dogs/._dog.1038.jpg  \r\n",
            "   creating: catsdogs/data/valid/cats/\r\n",
            "  inflating: catsdogs/data/valid/cats/cat.1013.jpg  \r\n",
            "   creating: catsdogs/__MACOSX/data/valid/cats/\r\n",
            "  inflating: catsdogs/__MACOSX/data/valid/cats/._cat.1013.jpg  \r\n",
            "  inflating: catsdogs/data/valid/cats/cat.1007.jpg  \r\n",
            "  inflating: catsdogs/__MACOSX/data/valid/cats/._cat.1007.jpg  \r\n",
            "  inflating: catsdogs/data/valid/cats/cat.1006.jpg  \r\n",
            "  inflating: catsdogs/__MACOSX/data/valid/cats/._cat.1006.jpg  \r\n",
            "  inflating: catsdogs/data/valid/cats/cat.1012.jpg  \r\n",
            "  inflating: catsdogs/__MACOSX/data/valid/cats/._cat.1012.jpg  \r\n",
            "  inflating: catsdogs/data/valid/cats/cat.1004.jpg  \r\n",
            "  inflating: catsdogs/__MACOSX/data/valid/cats/._cat.1004.jpg  \r\n",
            "  inflating: catsdogs/data/valid/cats/cat.1010.jpg  \r\n",
            "  inflating: catsdogs/__MACOSX/data/valid/cats/._cat.1010.jpg  \r\n",
            "  inflating: catsdogs/data/valid/cats/cat.1038.jpg  \r\n",
            "  inflating: catsdogs/__MACOSX/data/valid/cats/._cat.1038.jpg  \r\n",
            "  inflating: catsdogs/data/valid/cats/cat.1039.jpg  \r\n",
            "  inflating: catsdogs/__MACOSX/data/valid/cats/._cat.1039.jpg  \r\n",
            "  inflating: catsdogs/data/valid/cats/cat.1011.jpg  \r\n",
            "  inflating: catsdogs/__MACOSX/data/valid/cats/._cat.1011.jpg  \r\n",
            "  inflating: catsdogs/data/valid/cats/cat.1005.jpg  \r\n",
            "  inflating: catsdogs/__MACOSX/data/valid/cats/._cat.1005.jpg  \r\n",
            "  inflating: catsdogs/data/valid/cats/cat.1029.jpg  \r\n",
            "  inflating: catsdogs/__MACOSX/data/valid/cats/._cat.1029.jpg  \r\n",
            "  inflating: catsdogs/data/valid/cats/cat.1001.jpg  \r\n",
            "  inflating: catsdogs/__MACOSX/data/valid/cats/._cat.1001.jpg  \r\n",
            "  inflating: catsdogs/data/valid/cats/cat.1015.jpg  \r\n",
            "  inflating: catsdogs/__MACOSX/data/valid/cats/._cat.1015.jpg  \r\n",
            "  inflating: catsdogs/data/valid/cats/.DS_Store  \r\n",
            "  inflating: catsdogs/__MACOSX/data/valid/cats/._.DS_Store  \r\n",
            "  inflating: catsdogs/data/valid/cats/cat.1014.jpg  \r\n",
            "  inflating: catsdogs/__MACOSX/data/valid/cats/._cat.1014.jpg  \r\n",
            "  inflating: catsdogs/data/valid/cats/cat.1000.jpg  \r\n",
            "  inflating: catsdogs/__MACOSX/data/valid/cats/._cat.1000.jpg  \r\n",
            "  inflating: catsdogs/data/valid/cats/cat.1028.jpg  \r\n",
            "  inflating: catsdogs/__MACOSX/data/valid/cats/._cat.1028.jpg  \r\n",
            "  inflating: catsdogs/data/valid/cats/cat.1016.jpg  \r\n",
            "  inflating: catsdogs/__MACOSX/data/valid/cats/._cat.1016.jpg  \r\n",
            "  inflating: catsdogs/data/valid/cats/cat.1002.jpg  \r\n",
            "  inflating: catsdogs/__MACOSX/data/valid/cats/._cat.1002.jpg  \r\n",
            "  inflating: catsdogs/data/valid/cats/cat.1003.jpg  \r\n",
            "  inflating: catsdogs/__MACOSX/data/valid/cats/._cat.1003.jpg  \r\n",
            "  inflating: catsdogs/data/valid/cats/cat.1017.jpg  \r\n",
            "  inflating: catsdogs/__MACOSX/data/valid/cats/._cat.1017.jpg  \r\n",
            "  inflating: catsdogs/data/valid/cats/cat.1032.jpg  \r\n",
            "  inflating: catsdogs/__MACOSX/data/valid/cats/._cat.1032.jpg  \r\n",
            "  inflating: catsdogs/data/valid/cats/cat.1026.jpg  \r\n",
            "  inflating: catsdogs/__MACOSX/data/valid/cats/._cat.1026.jpg  \r\n",
            "  inflating: catsdogs/data/valid/cats/cat.1027.jpg  \r\n",
            "  inflating: catsdogs/__MACOSX/data/valid/cats/._cat.1027.jpg  \r\n",
            "  inflating: catsdogs/data/valid/cats/cat.1033.jpg  \r\n",
            "  inflating: catsdogs/__MACOSX/data/valid/cats/._cat.1033.jpg  \r\n",
            "  inflating: catsdogs/data/valid/cats/cat.1025.jpg  \r\n",
            "  inflating: catsdogs/__MACOSX/data/valid/cats/._cat.1025.jpg  \r\n",
            "  inflating: catsdogs/data/valid/cats/cat.1031.jpg  \r\n",
            "  inflating: catsdogs/__MACOSX/data/valid/cats/._cat.1031.jpg  \r\n",
            "  inflating: catsdogs/data/valid/cats/cat.1019.jpg  \r\n",
            "  inflating: catsdogs/__MACOSX/data/valid/cats/._cat.1019.jpg  \r\n",
            "  inflating: catsdogs/data/valid/cats/cat.1018.jpg  \r\n",
            "  inflating: catsdogs/__MACOSX/data/valid/cats/._cat.1018.jpg  \r\n",
            "  inflating: catsdogs/data/valid/cats/cat.1030.jpg  \r\n",
            "  inflating: catsdogs/__MACOSX/data/valid/cats/._cat.1030.jpg  \r\n",
            "  inflating: catsdogs/data/valid/cats/cat.1024.jpg  \r\n",
            "  inflating: catsdogs/__MACOSX/data/valid/cats/._cat.1024.jpg  \r\n",
            "  inflating: catsdogs/data/valid/cats/cat.1008.jpg  \r\n",
            "  inflating: catsdogs/__MACOSX/data/valid/cats/._cat.1008.jpg  \r\n",
            "  inflating: catsdogs/data/valid/cats/cat.1020.jpg  \r\n",
            "  inflating: catsdogs/__MACOSX/data/valid/cats/._cat.1020.jpg  \r\n",
            "  inflating: catsdogs/data/valid/cats/cat.1034.jpg  \r\n",
            "  inflating: catsdogs/__MACOSX/data/valid/cats/._cat.1034.jpg  \r\n",
            "  inflating: catsdogs/data/valid/cats/cat.1035.jpg  \r\n",
            "  inflating: catsdogs/__MACOSX/data/valid/cats/._cat.1035.jpg  \r\n",
            "  inflating: catsdogs/data/valid/cats/cat.1021.jpg  \r\n",
            "  inflating: catsdogs/__MACOSX/data/valid/cats/._cat.1021.jpg  \r\n",
            "  inflating: catsdogs/data/valid/cats/cat.1009.jpg  \r\n",
            "  inflating: catsdogs/__MACOSX/data/valid/cats/._cat.1009.jpg  \r\n",
            "  inflating: catsdogs/data/valid/cats/cat.1037.jpg  \r\n",
            "  inflating: catsdogs/__MACOSX/data/valid/cats/._cat.1037.jpg  \r\n",
            "  inflating: catsdogs/data/valid/cats/cat.1023.jpg  \r\n",
            "  inflating: catsdogs/__MACOSX/data/valid/cats/._cat.1023.jpg  \r\n",
            "  inflating: catsdogs/data/valid/cats/cat.1022.jpg  \r\n",
            "  inflating: catsdogs/__MACOSX/data/valid/cats/._cat.1022.jpg  \r\n",
            "  inflating: catsdogs/data/valid/cats/cat.1036.jpg  \r\n",
            "  inflating: catsdogs/__MACOSX/data/valid/cats/._cat.1036.jpg  \r\n",
            "  inflating: catsdogs/data/valid/.DS_Store  \r\n",
            "  inflating: catsdogs/__MACOSX/data/valid/._.DS_Store  \r\n",
            "  inflating: catsdogs/data/.DS_Store  \r\n",
            "  inflating: catsdogs/__MACOSX/data/._.DS_Store  \r\n",
            "   creating: catsdogs/data/train/\r\n",
            "   creating: catsdogs/data/train/dogs/\r\n",
            "  inflating: catsdogs/data/train/dogs/dog.36.jpg  \r\n",
            "   creating: catsdogs/__MACOSX/data/train/\r\n",
            "   creating: catsdogs/__MACOSX/data/train/dogs/\r\n",
            "  inflating: catsdogs/__MACOSX/data/train/dogs/._dog.36.jpg  \r\n",
            "  inflating: catsdogs/data/train/dogs/dog.22.jpg  \r\n",
            "  inflating: catsdogs/__MACOSX/data/train/dogs/._dog.22.jpg  \r\n",
            "  inflating: catsdogs/data/train/dogs/dog.23.jpg  \r\n",
            "  inflating: catsdogs/__MACOSX/data/train/dogs/._dog.23.jpg  \r\n",
            "  inflating: catsdogs/data/train/dogs/dog.37.jpg  \r\n",
            "  inflating: catsdogs/__MACOSX/data/train/dogs/._dog.37.jpg  \r\n",
            "  inflating: catsdogs/data/train/dogs/dog.21.jpg  \r\n",
            "  inflating: catsdogs/__MACOSX/data/train/dogs/._dog.21.jpg  \r\n",
            "  inflating: catsdogs/data/train/dogs/dog.35.jpg  \r\n",
            "  inflating: catsdogs/__MACOSX/data/train/dogs/._dog.35.jpg  \r\n",
            "  inflating: catsdogs/data/train/dogs/dog.34.jpg  \r\n",
            "  inflating: catsdogs/__MACOSX/data/train/dogs/._dog.34.jpg  \r\n",
            "  inflating: catsdogs/data/train/dogs/dog.20.jpg  \r\n",
            "  inflating: catsdogs/__MACOSX/data/train/dogs/._dog.20.jpg  \r\n",
            "  inflating: catsdogs/data/train/dogs/dog.24.jpg  \r\n",
            "  inflating: catsdogs/__MACOSX/data/train/dogs/._dog.24.jpg  \r\n",
            "  inflating: catsdogs/data/train/dogs/.DS_Store  \r\n",
            "  inflating: catsdogs/__MACOSX/data/train/dogs/._.DS_Store  \r\n",
            "  inflating: catsdogs/data/train/dogs/dog.30.jpg  \r\n",
            "  inflating: catsdogs/__MACOSX/data/train/dogs/._dog.30.jpg  \r\n",
            "  inflating: catsdogs/data/train/dogs/dog.18.jpg  \r\n",
            "  inflating: catsdogs/__MACOSX/data/train/dogs/._dog.18.jpg  \r\n",
            "  inflating: catsdogs/data/train/dogs/dog.19.jpg  \r\n",
            "  inflating: catsdogs/__MACOSX/data/train/dogs/._dog.19.jpg  \r\n",
            "  inflating: catsdogs/data/train/dogs/dog.31.jpg  \r\n",
            "  inflating: catsdogs/__MACOSX/data/train/dogs/._dog.31.jpg  \r\n",
            "  inflating: catsdogs/data/train/dogs/dog.25.jpg  \r\n",
            "  inflating: catsdogs/__MACOSX/data/train/dogs/._dog.25.jpg  \r\n",
            "  inflating: catsdogs/data/train/dogs/dog.33.jpg  \r\n",
            "  inflating: catsdogs/__MACOSX/data/train/dogs/._dog.33.jpg  \r\n",
            "  inflating: catsdogs/data/train/dogs/dog.27.jpg  \r\n",
            "  inflating: catsdogs/__MACOSX/data/train/dogs/._dog.27.jpg  \r\n",
            "  inflating: catsdogs/data/train/dogs/dog.26.jpg  \r\n",
            "  inflating: catsdogs/__MACOSX/data/train/dogs/._dog.26.jpg  \r\n",
            "  inflating: catsdogs/data/train/dogs/dog.32.jpg  \r\n",
            "  inflating: catsdogs/__MACOSX/data/train/dogs/._dog.32.jpg  \r\n",
            "  inflating: catsdogs/data/train/dogs/dog.69.jpg  \r\n",
            "  inflating: catsdogs/__MACOSX/data/train/dogs/._dog.69.jpg  \r\n",
            "  inflating: catsdogs/data/train/dogs/dog.55.jpg  \r\n",
            "  inflating: catsdogs/__MACOSX/data/train/dogs/._dog.55.jpg  \r\n",
            "  inflating: catsdogs/data/train/dogs/dog.1.jpg  \r\n",
            "  inflating: catsdogs/__MACOSX/data/train/dogs/._dog.1.jpg  \r\n",
            "  inflating: catsdogs/data/train/dogs/dog.41.jpg  \r\n",
            "  inflating: catsdogs/__MACOSX/data/train/dogs/._dog.41.jpg  \r\n",
            "  inflating: catsdogs/data/train/dogs/dog.96.jpg  \r\n",
            "  inflating: catsdogs/__MACOSX/data/train/dogs/._dog.96.jpg  \r\n",
            "  inflating: catsdogs/data/train/dogs/dog.82.jpg  \r\n",
            "  inflating: catsdogs/__MACOSX/data/train/dogs/._dog.82.jpg  \r\n",
            "  inflating: catsdogs/data/train/dogs/dog.83.jpg  \r\n",
            "  inflating: catsdogs/__MACOSX/data/train/dogs/._dog.83.jpg  \r\n",
            "  inflating: catsdogs/data/train/dogs/dog.97.jpg  \r\n",
            "  inflating: catsdogs/__MACOSX/data/train/dogs/._dog.97.jpg  \r\n",
            "  inflating: catsdogs/data/train/dogs/dog.40.jpg  \r\n",
            "  inflating: catsdogs/__MACOSX/data/train/dogs/._dog.40.jpg  \r\n",
            "  inflating: catsdogs/data/train/dogs/dog.0.jpg  \r\n",
            "  inflating: catsdogs/__MACOSX/data/train/dogs/._dog.0.jpg  \r\n",
            "  inflating: catsdogs/data/train/dogs/dog.54.jpg  \r\n",
            "  inflating: catsdogs/__MACOSX/data/train/dogs/._dog.54.jpg  \r\n",
            "  inflating: catsdogs/data/train/dogs/dog.68.jpg  \r\n",
            "  inflating: catsdogs/__MACOSX/data/train/dogs/._dog.68.jpg  \r\n",
            "  inflating: catsdogs/data/train/dogs/dog.2.jpg  \r\n",
            "  inflating: catsdogs/__MACOSX/data/train/dogs/._dog.2.jpg  \r\n",
            "  inflating: catsdogs/data/train/dogs/dog.42.jpg  \r\n",
            "  inflating: catsdogs/__MACOSX/data/train/dogs/._dog.42.jpg  \r\n",
            "  inflating: catsdogs/data/train/dogs/dog.56.jpg  \r\n",
            "  inflating: catsdogs/__MACOSX/data/train/dogs/._dog.56.jpg  \r\n",
            "  inflating: catsdogs/data/train/dogs/dog.81.jpg  \r\n",
            "  inflating: catsdogs/__MACOSX/data/train/dogs/._dog.81.jpg  \r\n",
            "  inflating: catsdogs/data/train/dogs/dog.95.jpg  \r\n",
            "  inflating: catsdogs/__MACOSX/data/train/dogs/._dog.95.jpg  \r\n",
            "  inflating: catsdogs/data/train/dogs/dog.94.jpg  \r\n",
            "  inflating: catsdogs/__MACOSX/data/train/dogs/._dog.94.jpg  \r\n",
            "  inflating: catsdogs/data/train/dogs/dog.80.jpg  \r\n",
            "  inflating: catsdogs/__MACOSX/data/train/dogs/._dog.80.jpg  \r\n",
            "  inflating: catsdogs/data/train/dogs/dog.57.jpg  \r\n",
            "  inflating: catsdogs/__MACOSX/data/train/dogs/._dog.57.jpg  \r\n",
            "  inflating: catsdogs/data/train/dogs/dog.43.jpg  \r\n",
            "  inflating: catsdogs/__MACOSX/data/train/dogs/._dog.43.jpg  \r\n",
            "  inflating: catsdogs/data/train/dogs/dog.3.jpg  \r\n",
            "  inflating: catsdogs/__MACOSX/data/train/dogs/._dog.3.jpg  \r\n",
            "  inflating: catsdogs/data/train/dogs/dog.47.jpg  \r\n",
            "  inflating: catsdogs/__MACOSX/data/train/dogs/._dog.47.jpg  \r\n",
            "  inflating: catsdogs/data/train/dogs/dog.7.jpg  \r\n",
            "  inflating: catsdogs/__MACOSX/data/train/dogs/._dog.7.jpg  \r\n",
            "  inflating: catsdogs/data/train/dogs/dog.53.jpg  \r\n",
            "  inflating: catsdogs/__MACOSX/data/train/dogs/._dog.53.jpg  \r\n",
            "  inflating: catsdogs/data/train/dogs/dog.84.jpg  \r\n",
            "  inflating: catsdogs/__MACOSX/data/train/dogs/._dog.84.jpg  \r\n",
            "  inflating: catsdogs/data/train/dogs/dog.90.jpg  \r\n",
            "  inflating: catsdogs/__MACOSX/data/train/dogs/._dog.90.jpg  \r\n",
            "  inflating: catsdogs/data/train/dogs/dog.91.jpg  \r\n",
            "  inflating: catsdogs/__MACOSX/data/train/dogs/._dog.91.jpg  \r\n",
            "  inflating: catsdogs/data/train/dogs/dog.85.jpg  \r\n",
            "  inflating: catsdogs/__MACOSX/data/train/dogs/._dog.85.jpg  \r\n",
            "  inflating: catsdogs/data/train/dogs/dog.52.jpg  \r\n",
            "  inflating: catsdogs/__MACOSX/data/train/dogs/._dog.52.jpg  \r\n",
            "  inflating: catsdogs/data/train/dogs/dog.6.jpg  \r\n",
            "  inflating: catsdogs/__MACOSX/data/train/dogs/._dog.6.jpg  \r\n",
            "  inflating: catsdogs/data/train/dogs/dog.46.jpg  \r\n",
            "  inflating: catsdogs/__MACOSX/data/train/dogs/._dog.46.jpg  \r\n",
            "  inflating: catsdogs/data/train/dogs/dog.50.jpg  \r\n",
            "  inflating: catsdogs/__MACOSX/data/train/dogs/._dog.50.jpg  \r\n",
            "  inflating: catsdogs/data/train/dogs/dog.44.jpg  \r\n",
            "  inflating: catsdogs/__MACOSX/data/train/dogs/._dog.44.jpg  \r\n",
            "  inflating: catsdogs/data/train/dogs/dog.4.jpg  \r\n",
            "  inflating: catsdogs/__MACOSX/data/train/dogs/._dog.4.jpg  \r\n",
            "  inflating: catsdogs/data/train/dogs/dog.78.jpg  \r\n",
            "  inflating: catsdogs/__MACOSX/data/train/dogs/._dog.78.jpg  \r\n",
            "  inflating: catsdogs/data/train/dogs/dog.93.jpg  \r\n",
            "  inflating: catsdogs/__MACOSX/data/train/dogs/._dog.93.jpg  \r\n",
            "  inflating: catsdogs/data/train/dogs/dog.87.jpg  \r\n",
            "  inflating: catsdogs/__MACOSX/data/train/dogs/._dog.87.jpg  \r\n",
            "  inflating: catsdogs/data/train/dogs/dog.86.jpg  \r\n",
            "  inflating: catsdogs/__MACOSX/data/train/dogs/._dog.86.jpg  \r\n",
            "  inflating: catsdogs/data/train/dogs/dog.92.jpg  \r\n",
            "  inflating: catsdogs/__MACOSX/data/train/dogs/._dog.92.jpg  \r\n",
            "  inflating: catsdogs/data/train/dogs/dog.79.jpg  \r\n",
            "  inflating: catsdogs/__MACOSX/data/train/dogs/._dog.79.jpg  \r\n",
            "  inflating: catsdogs/data/train/dogs/dog.5.jpg  \r\n",
            "  inflating: catsdogs/__MACOSX/data/train/dogs/._dog.5.jpg  \r\n",
            "  inflating: catsdogs/data/train/dogs/dog.45.jpg  \r\n",
            "  inflating: catsdogs/__MACOSX/data/train/dogs/._dog.45.jpg  \r\n",
            "  inflating: catsdogs/data/train/dogs/dog.51.jpg  \r\n",
            "  inflating: catsdogs/__MACOSX/data/train/dogs/._dog.51.jpg  \r\n",
            "  inflating: catsdogs/data/train/dogs/dog.8.jpg  \r\n",
            "  inflating: catsdogs/__MACOSX/data/train/dogs/._dog.8.jpg  \r\n",
            "  inflating: catsdogs/data/train/dogs/dog.48.jpg  \r\n",
            "  inflating: catsdogs/__MACOSX/data/train/dogs/._dog.48.jpg  \r\n",
            "  inflating: catsdogs/data/train/dogs/dog.74.jpg  \r\n",
            "  inflating: catsdogs/__MACOSX/data/train/dogs/._dog.74.jpg  \r\n",
            "  inflating: catsdogs/data/train/dogs/dog.60.jpg  \r\n",
            "  inflating: catsdogs/__MACOSX/data/train/dogs/._dog.60.jpg  \r\n",
            "  inflating: catsdogs/data/train/dogs/dog.61.jpg  \r\n",
            "  inflating: catsdogs/__MACOSX/data/train/dogs/._dog.61.jpg  \r\n",
            "  inflating: catsdogs/data/train/dogs/dog.75.jpg  \r\n",
            "  inflating: catsdogs/__MACOSX/data/train/dogs/._dog.75.jpg  \r\n",
            "  inflating: catsdogs/data/train/dogs/dog.49.jpg  \r\n",
            "  inflating: catsdogs/__MACOSX/data/train/dogs/._dog.49.jpg  \r\n",
            "  inflating: catsdogs/data/train/dogs/dog.9.jpg  \r\n",
            "  inflating: catsdogs/__MACOSX/data/train/dogs/._dog.9.jpg  \r\n",
            "  inflating: catsdogs/data/train/dogs/dog.63.jpg  \n",
            "  inflating: catsdogs/__MACOSX/data/train/dogs/._dog.63.jpg  \n",
            "  inflating: catsdogs/data/train/dogs/dog.77.jpg  \n",
            "  inflating: catsdogs/__MACOSX/data/train/dogs/._dog.77.jpg  \n",
            "  inflating: catsdogs/data/train/dogs/dog.88.jpg  \n",
            "  inflating: catsdogs/__MACOSX/data/train/dogs/._dog.88.jpg  \n",
            "  inflating: catsdogs/data/train/dogs/dog.89.jpg  \n",
            "  inflating: catsdogs/__MACOSX/data/train/dogs/._dog.89.jpg  \n",
            "  inflating: catsdogs/data/train/dogs/dog.76.jpg  \n",
            "  inflating: catsdogs/__MACOSX/data/train/dogs/._dog.76.jpg  \n",
            "  inflating: catsdogs/data/train/dogs/dog.62.jpg  \n",
            "  inflating: catsdogs/__MACOSX/data/train/dogs/._dog.62.jpg  \n",
            "  inflating: catsdogs/data/train/dogs/dog.66.jpg  \n",
            "  inflating: catsdogs/__MACOSX/data/train/dogs/._dog.66.jpg  \n",
            "  inflating: catsdogs/data/train/dogs/dog.72.jpg  \n",
            "  inflating: catsdogs/__MACOSX/data/train/dogs/._dog.72.jpg  \n",
            "  inflating: catsdogs/data/train/dogs/dog.99.jpg  \n",
            "  inflating: catsdogs/__MACOSX/data/train/dogs/._dog.99.jpg  \n",
            "  inflating: catsdogs/data/train/dogs/dog.98.jpg  \n",
            "  inflating: catsdogs/__MACOSX/data/train/dogs/._dog.98.jpg  \n",
            "  inflating: catsdogs/data/train/dogs/dog.73.jpg  \n",
            "  inflating: catsdogs/__MACOSX/data/train/dogs/._dog.73.jpg  \n",
            "  inflating: catsdogs/data/train/dogs/dog.67.jpg  \n",
            "  inflating: catsdogs/__MACOSX/data/train/dogs/._dog.67.jpg  \n",
            "  inflating: catsdogs/data/train/dogs/dog.71.jpg  \n",
            "  inflating: catsdogs/__MACOSX/data/train/dogs/._dog.71.jpg  \n",
            "  inflating: catsdogs/data/train/dogs/dog.65.jpg  \n",
            "  inflating: catsdogs/__MACOSX/data/train/dogs/._dog.65.jpg  \n",
            "  inflating: catsdogs/data/train/dogs/dog.59.jpg  \n",
            "  inflating: catsdogs/__MACOSX/data/train/dogs/._dog.59.jpg  \n",
            "  inflating: catsdogs/data/train/dogs/dog.58.jpg  \n",
            "  inflating: catsdogs/__MACOSX/data/train/dogs/._dog.58.jpg  \n",
            "  inflating: catsdogs/data/train/dogs/dog.64.jpg  \n",
            "  inflating: catsdogs/__MACOSX/data/train/dogs/._dog.64.jpg  \n",
            "  inflating: catsdogs/data/train/dogs/dog.70.jpg  \n",
            "  inflating: catsdogs/__MACOSX/data/train/dogs/._dog.70.jpg  \n",
            "  inflating: catsdogs/data/train/dogs/dog.17.jpg  \n",
            "  inflating: catsdogs/__MACOSX/data/train/dogs/._dog.17.jpg  \n",
            "  inflating: catsdogs/data/train/dogs/dog.16.jpg  \n",
            "  inflating: catsdogs/__MACOSX/data/train/dogs/._dog.16.jpg  \n",
            "  inflating: catsdogs/data/train/dogs/dog.28.jpg  \n",
            "  inflating: catsdogs/__MACOSX/data/train/dogs/._dog.28.jpg  \n",
            "  inflating: catsdogs/data/train/dogs/dog.14.jpg  \n",
            "  inflating: catsdogs/__MACOSX/data/train/dogs/._dog.14.jpg  \n",
            "  inflating: catsdogs/data/train/dogs/dog.15.jpg  \n",
            "  inflating: catsdogs/__MACOSX/data/train/dogs/._dog.15.jpg  \n",
            "  inflating: catsdogs/data/train/dogs/dog.29.jpg  \n",
            "  inflating: catsdogs/__MACOSX/data/train/dogs/._dog.29.jpg  \n",
            "  inflating: catsdogs/data/train/dogs/dog.11.jpg  \n",
            "  inflating: catsdogs/__MACOSX/data/train/dogs/._dog.11.jpg  \n",
            "  inflating: catsdogs/data/train/dogs/dog.39.jpg  \n",
            "  inflating: catsdogs/__MACOSX/data/train/dogs/._dog.39.jpg  \n",
            "  inflating: catsdogs/data/train/dogs/dog.38.jpg  \n",
            "  inflating: catsdogs/__MACOSX/data/train/dogs/._dog.38.jpg  \n",
            "  inflating: catsdogs/data/train/dogs/dog.10.jpg  \n",
            "  inflating: catsdogs/__MACOSX/data/train/dogs/._dog.10.jpg  \n",
            "  inflating: catsdogs/data/train/dogs/dog.12.jpg  \n",
            "  inflating: catsdogs/__MACOSX/data/train/dogs/._dog.12.jpg  \n",
            "  inflating: catsdogs/data/train/dogs/dog.13.jpg  \n",
            "  inflating: catsdogs/__MACOSX/data/train/dogs/._dog.13.jpg  \n",
            "   creating: catsdogs/data/train/cats/\n",
            "  inflating: catsdogs/data/train/cats/cat.6.jpg  \n",
            "   creating: catsdogs/__MACOSX/data/train/cats/\n",
            "  inflating: catsdogs/__MACOSX/data/train/cats/._cat.6.jpg  \n",
            "  inflating: catsdogs/data/train/cats/cat.30.jpg  \n",
            "  inflating: catsdogs/__MACOSX/data/train/cats/._cat.30.jpg  \n",
            "  inflating: catsdogs/data/train/cats/cat.24.jpg  \n",
            "  inflating: catsdogs/__MACOSX/data/train/cats/._cat.24.jpg  \n",
            "  inflating: catsdogs/data/train/cats/cat.18.jpg  \n",
            "  inflating: catsdogs/__MACOSX/data/train/cats/._cat.18.jpg  \n",
            "  inflating: catsdogs/data/train/cats/cat.19.jpg  \n",
            "  inflating: catsdogs/__MACOSX/data/train/cats/._cat.19.jpg  \n",
            "  inflating: catsdogs/data/train/cats/cat.25.jpg  \n",
            "  inflating: catsdogs/__MACOSX/data/train/cats/._cat.25.jpg  \n",
            "  inflating: catsdogs/data/train/cats/cat.31.jpg  \n",
            "  inflating: catsdogs/__MACOSX/data/train/cats/._cat.31.jpg  \n",
            "  inflating: catsdogs/data/train/cats/cat.7.jpg  \n",
            "  inflating: catsdogs/__MACOSX/data/train/cats/._cat.7.jpg  \n",
            "  inflating: catsdogs/data/train/cats/cat.5.jpg  \n",
            "  inflating: catsdogs/__MACOSX/data/train/cats/._cat.5.jpg  \n",
            "  inflating: catsdogs/data/train/cats/cat.27.jpg  \n",
            "  inflating: catsdogs/__MACOSX/data/train/cats/._cat.27.jpg  \n",
            "  inflating: catsdogs/data/train/cats/cat.33.jpg  \n",
            "  inflating: catsdogs/__MACOSX/data/train/cats/._cat.33.jpg  \n",
            "  inflating: catsdogs/data/train/cats/cat.32.jpg  \n",
            "  inflating: catsdogs/__MACOSX/data/train/cats/._cat.32.jpg  \n",
            "  inflating: catsdogs/data/train/cats/cat.26.jpg  \n",
            "  inflating: catsdogs/__MACOSX/data/train/cats/._cat.26.jpg  \n",
            "  inflating: catsdogs/data/train/cats/cat.4.jpg  \n",
            "  inflating: catsdogs/__MACOSX/data/train/cats/._cat.4.jpg  \n",
            "  inflating: catsdogs/data/train/cats/cat.0.jpg  \n",
            "  inflating: catsdogs/__MACOSX/data/train/cats/._cat.0.jpg  \n",
            "  inflating: catsdogs/data/train/cats/.DS_Store  \n",
            "  inflating: catsdogs/__MACOSX/data/train/cats/._.DS_Store  \n",
            "  inflating: catsdogs/data/train/cats/cat.22.jpg  \n",
            "  inflating: catsdogs/__MACOSX/data/train/cats/._cat.22.jpg  \n",
            "  inflating: catsdogs/data/train/cats/cat.36.jpg  \n",
            "  inflating: catsdogs/__MACOSX/data/train/cats/._cat.36.jpg  \n",
            "  inflating: catsdogs/data/train/cats/cat.37.jpg  \n",
            "  inflating: catsdogs/__MACOSX/data/train/cats/._cat.37.jpg  \n",
            "  inflating: catsdogs/data/train/cats/cat.23.jpg  \n",
            "  inflating: catsdogs/__MACOSX/data/train/cats/._cat.23.jpg  \n",
            "  inflating: catsdogs/data/train/cats/cat.1.jpg  \n",
            "  inflating: catsdogs/__MACOSX/data/train/cats/._cat.1.jpg  \n",
            "  inflating: catsdogs/data/train/cats/cat.3.jpg  \n",
            "  inflating: catsdogs/__MACOSX/data/train/cats/._cat.3.jpg  \n",
            "  inflating: catsdogs/data/train/cats/cat.35.jpg  \n",
            "  inflating: catsdogs/__MACOSX/data/train/cats/._cat.35.jpg  \n",
            "  inflating: catsdogs/data/train/cats/cat.21.jpg  \n",
            "  inflating: catsdogs/__MACOSX/data/train/cats/._cat.21.jpg  \n",
            "  inflating: catsdogs/data/train/cats/cat.20.jpg  \n",
            "  inflating: catsdogs/__MACOSX/data/train/cats/._cat.20.jpg  \n",
            "  inflating: catsdogs/data/train/cats/cat.34.jpg  \n",
            "  inflating: catsdogs/__MACOSX/data/train/cats/._cat.34.jpg  \n",
            "  inflating: catsdogs/data/train/cats/cat.2.jpg  \n",
            "  inflating: catsdogs/__MACOSX/data/train/cats/._cat.2.jpg  \n",
            "  inflating: catsdogs/data/train/cats/cat.90.jpg  \n",
            "  inflating: catsdogs/__MACOSX/data/train/cats/._cat.90.jpg  \n",
            "  inflating: catsdogs/data/train/cats/cat.84.jpg  \n",
            "  inflating: catsdogs/__MACOSX/data/train/cats/._cat.84.jpg  \n",
            "  inflating: catsdogs/data/train/cats/cat.53.jpg  \n",
            "  inflating: catsdogs/__MACOSX/data/train/cats/._cat.53.jpg  \n",
            "  inflating: catsdogs/data/train/cats/cat.47.jpg  \n",
            "  inflating: catsdogs/__MACOSX/data/train/cats/._cat.47.jpg  \n",
            "  inflating: catsdogs/data/train/cats/cat.46.jpg  \n",
            "  inflating: catsdogs/__MACOSX/data/train/cats/._cat.46.jpg  \n",
            "  inflating: catsdogs/data/train/cats/cat.52.jpg  \n",
            "  inflating: catsdogs/__MACOSX/data/train/cats/._cat.52.jpg  \n",
            "  inflating: catsdogs/data/train/cats/cat.85.jpg  \n",
            "  inflating: catsdogs/__MACOSX/data/train/cats/._cat.85.jpg  \n",
            "  inflating: catsdogs/data/train/cats/cat.91.jpg  \n",
            "  inflating: catsdogs/__MACOSX/data/train/cats/._cat.91.jpg  \n",
            "  inflating: catsdogs/data/train/cats/cat.87.jpg  \n",
            "  inflating: catsdogs/__MACOSX/data/train/cats/._cat.87.jpg  \n",
            "  inflating: catsdogs/data/train/cats/cat.93.jpg  \n",
            "  inflating: catsdogs/__MACOSX/data/train/cats/._cat.93.jpg  \n",
            "  inflating: catsdogs/data/train/cats/cat.44.jpg  \n",
            "  inflating: catsdogs/__MACOSX/data/train/cats/._cat.44.jpg  \n",
            "  inflating: catsdogs/data/train/cats/cat.50.jpg  \n",
            "  inflating: catsdogs/__MACOSX/data/train/cats/._cat.50.jpg  \n",
            "  inflating: catsdogs/data/train/cats/cat.78.jpg  \n",
            "  inflating: catsdogs/__MACOSX/data/train/cats/._cat.78.jpg  \n",
            "  inflating: catsdogs/data/train/cats/cat.79.jpg  \n",
            "  inflating: catsdogs/__MACOSX/data/train/cats/._cat.79.jpg  \n",
            "  inflating: catsdogs/data/train/cats/cat.51.jpg  \n",
            "  inflating: catsdogs/__MACOSX/data/train/cats/._cat.51.jpg  \n",
            "  inflating: catsdogs/data/train/cats/cat.45.jpg  \n",
            "  inflating: catsdogs/__MACOSX/data/train/cats/._cat.45.jpg  \n",
            "  inflating: catsdogs/data/train/cats/cat.92.jpg  \n",
            "  inflating: catsdogs/__MACOSX/data/train/cats/._cat.92.jpg  \n",
            "  inflating: catsdogs/data/train/cats/cat.86.jpg  \n",
            "  inflating: catsdogs/__MACOSX/data/train/cats/._cat.86.jpg  \n",
            "  inflating: catsdogs/data/train/cats/cat.82.jpg  \n",
            "  inflating: catsdogs/__MACOSX/data/train/cats/._cat.82.jpg  \n",
            "  inflating: catsdogs/data/train/cats/cat.96.jpg  \n",
            "  inflating: catsdogs/__MACOSX/data/train/cats/._cat.96.jpg  \n",
            "  inflating: catsdogs/data/train/cats/cat.69.jpg  \n",
            "  inflating: catsdogs/__MACOSX/data/train/cats/._cat.69.jpg  \n",
            "  inflating: catsdogs/data/train/cats/cat.41.jpg  \n",
            "  inflating: catsdogs/__MACOSX/data/train/cats/._cat.41.jpg  \n",
            "  inflating: catsdogs/data/train/cats/cat.55.jpg  \n",
            "  inflating: catsdogs/__MACOSX/data/train/cats/._cat.55.jpg  \n",
            "  inflating: catsdogs/data/train/cats/cat.54.jpg  \n",
            "  inflating: catsdogs/__MACOSX/data/train/cats/._cat.54.jpg  \n",
            "  inflating: catsdogs/data/train/cats/cat.40.jpg  \n",
            "  inflating: catsdogs/__MACOSX/data/train/cats/._cat.40.jpg  \n",
            "  inflating: catsdogs/data/train/cats/cat.68.jpg  \n",
            "  inflating: catsdogs/__MACOSX/data/train/cats/._cat.68.jpg  \n",
            "  inflating: catsdogs/data/train/cats/cat.97.jpg  \n",
            "  inflating: catsdogs/__MACOSX/data/train/cats/._cat.97.jpg  \n",
            "  inflating: catsdogs/data/train/cats/cat.83.jpg  \n",
            "  inflating: catsdogs/__MACOSX/data/train/cats/._cat.83.jpg  \n",
            "  inflating: catsdogs/data/train/cats/cat.95.jpg  \n",
            "  inflating: catsdogs/__MACOSX/data/train/cats/._cat.95.jpg  \n",
            "  inflating: catsdogs/data/train/cats/cat.81.jpg  \n",
            "  inflating: catsdogs/__MACOSX/data/train/cats/._cat.81.jpg  \n",
            "  inflating: catsdogs/data/train/cats/cat.56.jpg  \n",
            "  inflating: catsdogs/__MACOSX/data/train/cats/._cat.56.jpg  \n",
            "  inflating: catsdogs/data/train/cats/cat.42.jpg  \n",
            "  inflating: catsdogs/__MACOSX/data/train/cats/._cat.42.jpg  \n",
            "  inflating: catsdogs/data/train/cats/cat.43.jpg  \n",
            "  inflating: catsdogs/__MACOSX/data/train/cats/._cat.43.jpg  \n",
            "  inflating: catsdogs/data/train/cats/cat.57.jpg  \n",
            "  inflating: catsdogs/__MACOSX/data/train/cats/._cat.57.jpg  \n",
            "  inflating: catsdogs/data/train/cats/cat.80.jpg  \n",
            "  inflating: catsdogs/__MACOSX/data/train/cats/._cat.80.jpg  \n",
            "  inflating: catsdogs/data/train/cats/cat.94.jpg  \n",
            "  inflating: catsdogs/__MACOSX/data/train/cats/._cat.94.jpg  \n",
            "  inflating: catsdogs/data/train/cats/cat.99.jpg  \n",
            "  inflating: catsdogs/__MACOSX/data/train/cats/._cat.99.jpg  \n",
            "  inflating: catsdogs/data/train/cats/cat.72.jpg  \n",
            "  inflating: catsdogs/__MACOSX/data/train/cats/._cat.72.jpg  \n",
            "  inflating: catsdogs/data/train/cats/cat.66.jpg  \n",
            "  inflating: catsdogs/__MACOSX/data/train/cats/._cat.66.jpg  \n",
            "  inflating: catsdogs/data/train/cats/cat.67.jpg  \n",
            "  inflating: catsdogs/__MACOSX/data/train/cats/._cat.67.jpg  \n",
            "  inflating: catsdogs/data/train/cats/cat.73.jpg  \n",
            "  inflating: catsdogs/__MACOSX/data/train/cats/._cat.73.jpg  \n",
            "  inflating: catsdogs/data/train/cats/cat.98.jpg  \n",
            "  inflating: catsdogs/__MACOSX/data/train/cats/._cat.98.jpg  \n",
            "  inflating: catsdogs/data/train/cats/cat.65.jpg  \n",
            "  inflating: catsdogs/__MACOSX/data/train/cats/._cat.65.jpg  \n",
            "  inflating: catsdogs/data/train/cats/cat.71.jpg  \n",
            "  inflating: catsdogs/__MACOSX/data/train/cats/._cat.71.jpg  \n",
            "  inflating: catsdogs/data/train/cats/cat.59.jpg  \n",
            "  inflating: catsdogs/__MACOSX/data/train/cats/._cat.59.jpg  \n",
            "  inflating: catsdogs/data/train/cats/cat.58.jpg  \n",
            "  inflating: catsdogs/__MACOSX/data/train/cats/._cat.58.jpg  \n",
            "  inflating: catsdogs/data/train/cats/cat.70.jpg  \n",
            "  inflating: catsdogs/__MACOSX/data/train/cats/._cat.70.jpg  \n",
            "  inflating: catsdogs/data/train/cats/cat.64.jpg  \n",
            "  inflating: catsdogs/__MACOSX/data/train/cats/._cat.64.jpg  \n",
            "  inflating: catsdogs/data/train/cats/cat.48.jpg  \n",
            "  inflating: catsdogs/__MACOSX/data/train/cats/._cat.48.jpg  \n",
            "  inflating: catsdogs/data/train/cats/cat.60.jpg  \n",
            "  inflating: catsdogs/__MACOSX/data/train/cats/._cat.60.jpg  \n",
            "  inflating: catsdogs/data/train/cats/cat.74.jpg  \n",
            "  inflating: catsdogs/__MACOSX/data/train/cats/._cat.74.jpg  \n",
            "  inflating: catsdogs/data/train/cats/cat.75.jpg  \n",
            "  inflating: catsdogs/__MACOSX/data/train/cats/._cat.75.jpg  \n",
            "  inflating: catsdogs/data/train/cats/cat.61.jpg  \n",
            "  inflating: catsdogs/__MACOSX/data/train/cats/._cat.61.jpg  \n",
            "  inflating: catsdogs/data/train/cats/cat.49.jpg  \n",
            "  inflating: catsdogs/__MACOSX/data/train/cats/._cat.49.jpg  \n",
            "  inflating: catsdogs/data/train/cats/cat.88.jpg  \n",
            "  inflating: catsdogs/__MACOSX/data/train/cats/._cat.88.jpg  \n",
            "  inflating: catsdogs/data/train/cats/cat.77.jpg  \n",
            "  inflating: catsdogs/__MACOSX/data/train/cats/._cat.77.jpg  \n",
            "  inflating: catsdogs/data/train/cats/cat.63.jpg  \n",
            "  inflating: catsdogs/__MACOSX/data/train/cats/._cat.63.jpg  \n",
            "  inflating: catsdogs/data/train/cats/cat.62.jpg  \n",
            "  inflating: catsdogs/__MACOSX/data/train/cats/._cat.62.jpg  \n",
            "  inflating: catsdogs/data/train/cats/cat.76.jpg  \n",
            "  inflating: catsdogs/__MACOSX/data/train/cats/._cat.76.jpg  \n",
            "  inflating: catsdogs/data/train/cats/cat.89.jpg  \n",
            "  inflating: catsdogs/__MACOSX/data/train/cats/._cat.89.jpg  \n",
            "  inflating: catsdogs/data/train/cats/cat.11.jpg  \n",
            "  inflating: catsdogs/__MACOSX/data/train/cats/._cat.11.jpg  \n",
            "  inflating: catsdogs/data/train/cats/cat.39.jpg  \n",
            "  inflating: catsdogs/__MACOSX/data/train/cats/._cat.39.jpg  \n",
            "  inflating: catsdogs/data/train/cats/cat.38.jpg  \n",
            "  inflating: catsdogs/__MACOSX/data/train/cats/._cat.38.jpg  \n",
            "  inflating: catsdogs/data/train/cats/cat.10.jpg  \n",
            "  inflating: catsdogs/__MACOSX/data/train/cats/._cat.10.jpg  \n",
            "  inflating: catsdogs/data/train/cats/cat.12.jpg  \n",
            "  inflating: catsdogs/__MACOSX/data/train/cats/._cat.12.jpg  \n",
            "  inflating: catsdogs/data/train/cats/cat.13.jpg  \n",
            "  inflating: catsdogs/__MACOSX/data/train/cats/._cat.13.jpg  \n",
            "  inflating: catsdogs/data/train/cats/cat.9.jpg  \n",
            "  inflating: catsdogs/__MACOSX/data/train/cats/._cat.9.jpg  \n",
            "  inflating: catsdogs/data/train/cats/cat.17.jpg  \n",
            "  inflating: catsdogs/__MACOSX/data/train/cats/._cat.17.jpg  \n",
            "  inflating: catsdogs/data/train/cats/cat.16.jpg  \n",
            "  inflating: catsdogs/__MACOSX/data/train/cats/._cat.16.jpg  \n",
            "  inflating: catsdogs/data/train/cats/cat.8.jpg  \n",
            "  inflating: catsdogs/__MACOSX/data/train/cats/._cat.8.jpg  \n",
            "  inflating: catsdogs/data/train/cats/cat.28.jpg  \n",
            "  inflating: catsdogs/__MACOSX/data/train/cats/._cat.28.jpg  \n",
            "  inflating: catsdogs/data/train/cats/cat.14.jpg  \n",
            "  inflating: catsdogs/__MACOSX/data/train/cats/._cat.14.jpg  \n",
            "  inflating: catsdogs/data/train/cats/cat.15.jpg  \n",
            "  inflating: catsdogs/__MACOSX/data/train/cats/._cat.15.jpg  \n",
            "  inflating: catsdogs/data/train/cats/cat.29.jpg  \n",
            "  inflating: catsdogs/__MACOSX/data/train/cats/._cat.29.jpg  \n",
            "  inflating: catsdogs/data/train/.DS_Store  \n",
            "  inflating: catsdogs/__MACOSX/data/train/._.DS_Store  \n"
          ],
          "name": "stdout"
        }
      ]
    },
    {
      "metadata": {
        "id": "yksB0RKZZ-oe",
        "colab_type": "code",
        "colab": {
          "autoexec": {
            "startup": false,
            "wait_interval": 0
          }
        }
      },
      "cell_type": "code",
      "source": [
        "import numpy as np\n",
        "from keras.models import Sequential, Model\n",
        "from keras.layers import Conv2D, MaxPooling2D\n",
        "from keras.layers import Activation, Dropout, Flatten, Dense"
      ],
      "execution_count": 0,
      "outputs": []
    },
    {
      "metadata": {
        "id": "GGn2it16qvJY",
        "colab_type": "code",
        "colab": {
          "autoexec": {
            "startup": false,
            "wait_interval": 0
          }
        }
      },
      "cell_type": "code",
      "source": [
        "!cd data/__MACOSX/data/train/dogs && ls"
      ],
      "execution_count": 0,
      "outputs": []
    },
    {
      "metadata": {
        "id": "BFsE6e2UycrF",
        "colab_type": "code",
        "colab": {
          "autoexec": {
            "startup": false,
            "wait_interval": 0
          }
        }
      },
      "cell_type": "code",
      "source": [
        "PATH = 'catsdogs/data/'"
      ],
      "execution_count": 0,
      "outputs": []
    },
    {
      "metadata": {
        "id": "IlUNx9kR0kLC",
        "colab_type": "code",
        "colab": {
          "autoexec": {
            "startup": false,
            "wait_interval": 0
          }
        }
      },
      "cell_type": "code",
      "source": [
        "!ls {PATH}/valid/cats | head"
      ],
      "execution_count": 0,
      "outputs": []
    },
    {
      "metadata": {
        "id": "NtGdR5f7Z-oq",
        "colab_type": "code",
        "colab": {
          "autoexec": {
            "startup": false,
            "wait_interval": 0
          }
        }
      },
      "cell_type": "code",
      "source": [
        "from keras.preprocessing.image import ImageDataGenerator\n",
        "from keras.applications.vgg16 import VGG16"
      ],
      "execution_count": 0,
      "outputs": []
    },
    {
      "metadata": {
        "id": "wjRk89KUZ-ov",
        "colab_type": "code",
        "colab": {
          "autoexec": {
            "startup": false,
            "wait_interval": 0
          },
          "base_uri": "https://localhost:8080/",
          "height": 88
        },
        "outputId": "d2813380-d93c-41b6-f7fa-b11d07f1e88a",
        "executionInfo": {
          "status": "ok",
          "timestamp": 1520583654551,
          "user_tz": -330,
          "elapsed": 2354,
          "user": {
            "displayName": "Avinash Selvam",
            "photoUrl": "//lh6.googleusercontent.com/-OWw3sMItg1E/AAAAAAAAAAI/AAAAAAAAAh4/CZwfXx18yUg/s50-c-k-no/photo.jpg",
            "userId": "106485937356478174490"
          }
        }
      },
      "cell_type": "code",
      "source": [
        "base_model = VGG16(weights='imagenet', include_top=False, input_shape=(150,150,3))"
      ],
      "execution_count": 0,
      "outputs": [
        {
          "output_type": "stream",
          "text": [
            "Downloading data from https://github.com/fchollet/deep-learning-models/releases/download/v0.1/vgg16_weights_tf_dim_ordering_tf_kernels_notop.h5\n",
            "58892288/58889256 [==============================] - 1s 0us/step\n",
            "58900480/58889256 [==============================] - 1s 0us/step\n"
          ],
          "name": "stdout"
        }
      ]
    },
    {
      "metadata": {
        "id": "CLze-VywZ-o0",
        "colab_type": "code",
        "colab": {
          "autoexec": {
            "startup": false,
            "wait_interval": 0
          }
        }
      },
      "cell_type": "code",
      "source": [
        "model = Model(inputs=base_model.input,\n",
        "              outputs=base_model.output)"
      ],
      "execution_count": 0,
      "outputs": []
    },
    {
      "metadata": {
        "id": "crKcqZQPZ-o5",
        "colab_type": "code",
        "colab": {
          "autoexec": {
            "startup": false,
            "wait_interval": 0
          }
        }
      },
      "cell_type": "code",
      "source": [
        "datagen = ImageDataGenerator(rescale=1./255)"
      ],
      "execution_count": 0,
      "outputs": []
    },
    {
      "metadata": {
        "id": "7gnHNpSWZ-o9",
        "colab_type": "code",
        "colab": {
          "autoexec": {
            "startup": false,
            "wait_interval": 0
          },
          "base_uri": "https://localhost:8080/",
          "height": 34
        },
        "outputId": "a99ffd3d-188d-4ab3-8380-46134d45b8c2",
        "executionInfo": {
          "status": "ok",
          "timestamp": 1520585930935,
          "user_tz": -330,
          "elapsed": 878,
          "user": {
            "displayName": "Avinash Selvam",
            "photoUrl": "//lh6.googleusercontent.com/-OWw3sMItg1E/AAAAAAAAAAI/AAAAAAAAAh4/CZwfXx18yUg/s50-c-k-no/photo.jpg",
            "userId": "106485937356478174490"
          }
        }
      },
      "cell_type": "code",
      "source": [
        "batch_size = 16\n",
        "\n",
        "generator = datagen.flow_from_directory(PATH+'/train',\n",
        "                                        target_size=(150, 150),\n",
        "                                        batch_size=batch_size,\n",
        "                                        shuffle=False)"
      ],
      "execution_count": 0,
      "outputs": [
        {
          "output_type": "stream",
          "text": [
            "Found 200 images belonging to 2 classes.\n"
          ],
          "name": "stdout"
        }
      ]
    },
    {
      "metadata": {
        "id": "Q47y7aAWZ-pD",
        "colab_type": "code",
        "colab": {
          "autoexec": {
            "startup": false,
            "wait_interval": 0
          }
        }
      },
      "cell_type": "code",
      "source": [
        "bottleneck_features_train = model.predict_generator(generator)"
      ],
      "execution_count": 0,
      "outputs": []
    },
    {
      "metadata": {
        "id": "At4ZLbBdZ-pI",
        "colab_type": "code",
        "colab": {
          "autoexec": {
            "startup": false,
            "wait_interval": 0
          }
        }
      },
      "cell_type": "code",
      "source": [
        "np.save(open('bottleneck_features_train.npy', 'w'),\n",
        "        bottleneck_features_train)"
      ],
      "execution_count": 0,
      "outputs": []
    },
    {
      "metadata": {
        "id": "BscGv6XrZ-pO",
        "colab_type": "code",
        "colab": {
          "autoexec": {
            "startup": false,
            "wait_interval": 0
          },
          "base_uri": "https://localhost:8080/",
          "height": 34
        },
        "outputId": "86775a8a-20da-45ef-f63e-9f49285115e8",
        "executionInfo": {
          "status": "ok",
          "timestamp": 1520585943429,
          "user_tz": -330,
          "elapsed": 1142,
          "user": {
            "displayName": "Avinash Selvam",
            "photoUrl": "//lh6.googleusercontent.com/-OWw3sMItg1E/AAAAAAAAAAI/AAAAAAAAAh4/CZwfXx18yUg/s50-c-k-no/photo.jpg",
            "userId": "106485937356478174490"
          }
        }
      },
      "cell_type": "code",
      "source": [
        "generator = datagen.flow_from_directory(PATH+'/valid',\n",
        "                                        target_size=(150, 150),\n",
        "                                        batch_size=batch_size,\n",
        "                                        shuffle=False)"
      ],
      "execution_count": 0,
      "outputs": [
        {
          "output_type": "stream",
          "text": [
            "Found 80 images belonging to 2 classes.\n"
          ],
          "name": "stdout"
        }
      ]
    },
    {
      "metadata": {
        "id": "QWhyoKBtZ-pU",
        "colab_type": "code",
        "colab": {
          "autoexec": {
            "startup": false,
            "wait_interval": 0
          }
        }
      },
      "cell_type": "code",
      "source": [
        "bottleneck_features_validation = model.predict_generator(generator)"
      ],
      "execution_count": 0,
      "outputs": []
    },
    {
      "metadata": {
        "id": "AX393a-qZ-pZ",
        "colab_type": "code",
        "colab": {
          "autoexec": {
            "startup": false,
            "wait_interval": 0
          }
        }
      },
      "cell_type": "code",
      "source": [
        "np.save(open('bottleneck_features_validation.npy', 'w'),\n",
        "        bottleneck_features_validation)"
      ],
      "execution_count": 0,
      "outputs": []
    },
    {
      "metadata": {
        "id": "aNSfp3smZ-pd",
        "colab_type": "code",
        "colab": {
          "autoexec": {
            "startup": false,
            "wait_interval": 0
          }
        }
      },
      "cell_type": "code",
      "source": [
        "train_data = np.load(open('bottleneck_features_train.npy'))\n",
        "train_labels = np.array([0]*100 + [1]*100)"
      ],
      "execution_count": 0,
      "outputs": []
    },
    {
      "metadata": {
        "id": "kQkmOMVAZ-ph",
        "colab_type": "code",
        "colab": {
          "autoexec": {
            "startup": false,
            "wait_interval": 0
          }
        }
      },
      "cell_type": "code",
      "source": [
        "validation_data = np.load(open('bottleneck_features_validation.npy'))\n",
        "validation_labels = np.array([0]*40 + [1]*40)"
      ],
      "execution_count": 0,
      "outputs": []
    },
    {
      "metadata": {
        "id": "WjJYg0JRZ-pn",
        "colab_type": "code",
        "colab": {
          "autoexec": {
            "startup": false,
            "wait_interval": 0
          }
        }
      },
      "cell_type": "code",
      "source": [
        "model = Sequential()\n",
        "model.add(Flatten(input_shape=train_data.shape[1:]))\n",
        "model.add(Dense(256, activation='relu'))\n",
        "model.add(Dropout(0.5))\n",
        "model.add(Dense(1, activation='sigmoid'))"
      ],
      "execution_count": 0,
      "outputs": []
    },
    {
      "metadata": {
        "id": "z4O96xcAZ-ps",
        "colab_type": "code",
        "colab": {
          "autoexec": {
            "startup": false,
            "wait_interval": 0
          }
        }
      },
      "cell_type": "code",
      "source": [
        "model.compile(optimizer='rmsprop',\n",
        "             loss='binary_crossentropy',\n",
        "             metrics=['accuracy'])"
      ],
      "execution_count": 0,
      "outputs": []
    },
    {
      "metadata": {
        "id": "U-nwIjd2Z-px",
        "colab_type": "code",
        "colab": {
          "autoexec": {
            "startup": false,
            "wait_interval": 0
          },
          "base_uri": "https://localhost:8080/",
          "height": 1754
        },
        "outputId": "c7af9301-bc54-4788-ee1f-b6c141887900",
        "executionInfo": {
          "status": "ok",
          "timestamp": 1520585974171,
          "user_tz": -330,
          "elapsed": 6477,
          "user": {
            "displayName": "Avinash Selvam",
            "photoUrl": "//lh6.googleusercontent.com/-OWw3sMItg1E/AAAAAAAAAAI/AAAAAAAAAh4/CZwfXx18yUg/s50-c-k-no/photo.jpg",
            "userId": "106485937356478174490"
          }
        }
      },
      "cell_type": "code",
      "source": [
        "model.fit(train_data, train_labels,\n",
        "         epochs=50,\n",
        "         batch_size=batch_size,\n",
        "         validation_data=(validation_data, validation_labels))\n",
        "\n",
        "model.save_weights('bottleneck_fc_model.h5')"
      ],
      "execution_count": 0,
      "outputs": [
        {
          "output_type": "stream",
          "text": [
            "Train on 200 samples, validate on 80 samples\n",
            "Epoch 1/50\n",
            "200/200 [==============================] - 0s 2ms/step - loss: 5.9221 - acc: 0.5050 - val_loss: 0.5645 - val_acc: 0.6500\n",
            "Epoch 2/50\n",
            "200/200 [==============================] - 0s 463us/step - loss: 1.3018 - acc: 0.6000 - val_loss: 0.5406 - val_acc: 0.7375\n",
            "Epoch 3/50\n",
            "200/200 [==============================] - 0s 470us/step - loss: 0.4465 - acc: 0.8350 - val_loss: 0.6086 - val_acc: 0.7000\n",
            "Epoch 4/50\n",
            "200/200 [==============================] - 0s 470us/step - loss: 0.4190 - acc: 0.8500 - val_loss: 0.3128 - val_acc: 0.8500\n",
            "Epoch 5/50\n",
            "200/200 [==============================] - 0s 474us/step - loss: 0.3536 - acc: 0.8700 - val_loss: 0.4552 - val_acc: 0.8000\n",
            "Epoch 6/50\n",
            "200/200 [==============================] - 0s 517us/step - loss: 0.2611 - acc: 0.8800 - val_loss: 0.2524 - val_acc: 0.8750\n",
            "Epoch 7/50\n",
            "200/200 [==============================] - 0s 468us/step - loss: 0.1172 - acc: 0.9500 - val_loss: 0.4596 - val_acc: 0.8125\n",
            "Epoch 8/50\n",
            "200/200 [==============================] - 0s 443us/step - loss: 0.0694 - acc: 0.9750 - val_loss: 0.2448 - val_acc: 0.9000\n",
            "Epoch 9/50\n",
            "200/200 [==============================] - 0s 476us/step - loss: 0.5152 - acc: 0.8750 - val_loss: 0.2357 - val_acc: 0.9125\n",
            "Epoch 10/50\n",
            "200/200 [==============================] - 0s 462us/step - loss: 0.0437 - acc: 0.9950 - val_loss: 0.8110 - val_acc: 0.7625\n",
            "Epoch 11/50\n",
            "200/200 [==============================] - 0s 465us/step - loss: 0.0577 - acc: 0.9700 - val_loss: 0.5235 - val_acc: 0.8125\n",
            "Epoch 12/50\n",
            "200/200 [==============================] - 0s 458us/step - loss: 0.0314 - acc: 0.9900 - val_loss: 0.9737 - val_acc: 0.7375\n",
            "Epoch 13/50\n",
            "200/200 [==============================] - 0s 480us/step - loss: 0.1128 - acc: 0.9600 - val_loss: 0.3194 - val_acc: 0.8875\n",
            "Epoch 14/50\n",
            "200/200 [==============================] - 0s 452us/step - loss: 0.0546 - acc: 0.9800 - val_loss: 0.2866 - val_acc: 0.9000\n",
            "Epoch 15/50\n",
            "200/200 [==============================] - 0s 468us/step - loss: 0.2646 - acc: 0.9200 - val_loss: 0.7767 - val_acc: 0.7750\n",
            "Epoch 16/50\n",
            "200/200 [==============================] - 0s 469us/step - loss: 0.0086 - acc: 1.0000 - val_loss: 0.2970 - val_acc: 0.9250\n",
            "Epoch 17/50\n",
            "200/200 [==============================] - 0s 506us/step - loss: 0.0078 - acc: 1.0000 - val_loss: 0.3060 - val_acc: 0.9125\n",
            "Epoch 18/50\n",
            "200/200 [==============================] - 0s 522us/step - loss: 0.0090 - acc: 1.0000 - val_loss: 0.2705 - val_acc: 0.9375\n",
            "Epoch 19/50\n",
            "200/200 [==============================] - 0s 535us/step - loss: 0.0155 - acc: 0.9950 - val_loss: 0.4059 - val_acc: 0.8625\n",
            "Epoch 20/50\n",
            "200/200 [==============================] - 0s 503us/step - loss: 0.0034 - acc: 1.0000 - val_loss: 0.3445 - val_acc: 0.9000\n",
            "Epoch 21/50\n",
            "200/200 [==============================] - 0s 566us/step - loss: 0.0046 - acc: 1.0000 - val_loss: 0.3559 - val_acc: 0.9375\n"
          ],
          "name": "stdout"
        },
        {
          "output_type": "stream",
          "text": [
            "Epoch 22/50\n",
            "200/200 [==============================] - 0s 527us/step - loss: 0.0681 - acc: 0.9850 - val_loss: 0.4117 - val_acc: 0.8875\n",
            "Epoch 23/50\n",
            "200/200 [==============================] - 0s 516us/step - loss: 0.0059 - acc: 0.9950 - val_loss: 0.3705 - val_acc: 0.9250\n",
            "Epoch 24/50\n",
            "200/200 [==============================] - 0s 515us/step - loss: 0.0045 - acc: 1.0000 - val_loss: 0.3604 - val_acc: 0.9125\n",
            "Epoch 25/50\n",
            "200/200 [==============================] - 0s 512us/step - loss: 9.3003e-04 - acc: 1.0000 - val_loss: 0.3946 - val_acc: 0.9125\n",
            "Epoch 26/50\n",
            "200/200 [==============================] - 0s 520us/step - loss: 0.0341 - acc: 0.9750 - val_loss: 0.3768 - val_acc: 0.9250\n",
            "Epoch 27/50\n",
            "200/200 [==============================] - 0s 505us/step - loss: 4.5645e-04 - acc: 1.0000 - val_loss: 0.3506 - val_acc: 0.9250\n",
            "Epoch 28/50\n",
            "200/200 [==============================] - 0s 527us/step - loss: 0.0056 - acc: 1.0000 - val_loss: 0.3656 - val_acc: 0.9250\n",
            "Epoch 29/50\n",
            "200/200 [==============================] - 0s 508us/step - loss: 0.0037 - acc: 1.0000 - val_loss: 0.3632 - val_acc: 0.9250\n",
            "Epoch 30/50\n",
            "200/200 [==============================] - 0s 543us/step - loss: 4.3929e-04 - acc: 1.0000 - val_loss: 0.3758 - val_acc: 0.9250\n",
            "Epoch 31/50\n",
            "200/200 [==============================] - 0s 514us/step - loss: 9.1345e-05 - acc: 1.0000 - val_loss: 0.3697 - val_acc: 0.9375\n",
            "Epoch 32/50\n",
            "200/200 [==============================] - 0s 497us/step - loss: 0.0622 - acc: 0.9750 - val_loss: 0.4348 - val_acc: 0.8875\n",
            "Epoch 33/50\n",
            "200/200 [==============================] - 0s 531us/step - loss: 0.0178 - acc: 0.9900 - val_loss: 0.3821 - val_acc: 0.9125\n",
            "Epoch 34/50\n",
            "200/200 [==============================] - 0s 523us/step - loss: 0.0012 - acc: 1.0000 - val_loss: 0.6309 - val_acc: 0.8750\n",
            "Epoch 35/50\n",
            "200/200 [==============================] - 0s 523us/step - loss: 0.0012 - acc: 1.0000 - val_loss: 0.5729 - val_acc: 0.8625\n",
            "Epoch 36/50\n",
            "200/200 [==============================] - 0s 516us/step - loss: 0.0019 - acc: 1.0000 - val_loss: 0.4210 - val_acc: 0.9125\n",
            "Epoch 37/50\n",
            "200/200 [==============================] - 0s 504us/step - loss: 1.5536e-04 - acc: 1.0000 - val_loss: 0.4028 - val_acc: 0.9125\n",
            "Epoch 38/50\n",
            "200/200 [==============================] - 0s 517us/step - loss: 2.5763e-04 - acc: 1.0000 - val_loss: 0.3997 - val_acc: 0.9250\n",
            "Epoch 39/50\n",
            "200/200 [==============================] - 0s 545us/step - loss: 1.0083e-05 - acc: 1.0000 - val_loss: 0.4009 - val_acc: 0.9375\n",
            "Epoch 40/50\n",
            "200/200 [==============================] - 0s 503us/step - loss: 3.2933e-05 - acc: 1.0000 - val_loss: 0.4279 - val_acc: 0.9125\n",
            "Epoch 41/50\n",
            "200/200 [==============================] - 0s 512us/step - loss: 0.0401 - acc: 0.9800 - val_loss: 0.4243 - val_acc: 0.8875\n",
            "Epoch 42/50\n",
            "200/200 [==============================] - 0s 544us/step - loss: 3.6457e-04 - acc: 1.0000 - val_loss: 0.3979 - val_acc: 0.9250\n",
            "Epoch 43/50\n",
            "144/200 [====================>.........] - ETA: 0s - loss: 7.0607e-05 - acc: 1.0000"
          ],
          "name": "stdout"
        },
        {
          "output_type": "stream",
          "text": [
            "200/200 [==============================] - 0s 528us/step - loss: 5.3332e-05 - acc: 1.0000 - val_loss: 0.3875 - val_acc: 0.9375\n",
            "Epoch 44/50\n",
            "200/200 [==============================] - 0s 507us/step - loss: 1.7601e-04 - acc: 1.0000 - val_loss: 0.3818 - val_acc: 0.9250\n",
            "Epoch 45/50\n",
            "200/200 [==============================] - 0s 537us/step - loss: 4.3025e-05 - acc: 1.0000 - val_loss: 0.3745 - val_acc: 0.9375\n",
            "Epoch 46/50\n",
            "200/200 [==============================] - 0s 493us/step - loss: 3.1456e-05 - acc: 1.0000 - val_loss: 0.3851 - val_acc: 0.9375\n",
            "Epoch 47/50\n",
            "200/200 [==============================] - 0s 514us/step - loss: 4.3419e-06 - acc: 1.0000 - val_loss: 0.3906 - val_acc: 0.9375\n",
            "Epoch 48/50\n",
            "200/200 [==============================] - 0s 532us/step - loss: 9.7429e-05 - acc: 1.0000 - val_loss: 1.3988 - val_acc: 0.7875\n",
            "Epoch 49/50\n",
            "200/200 [==============================] - 0s 528us/step - loss: 0.0018 - acc: 1.0000 - val_loss: 0.6916 - val_acc: 0.8625\n",
            "Epoch 50/50\n",
            "200/200 [==============================] - 0s 522us/step - loss: 0.0025 - acc: 1.0000 - val_loss: 0.4367 - val_acc: 0.9500\n"
          ],
          "name": "stdout"
        }
      ]
    },
    {
      "metadata": {
        "id": "FvDOgBug-BOD",
        "colab_type": "code",
        "colab": {
          "autoexec": {
            "startup": false,
            "wait_interval": 0
          }
        }
      },
      "cell_type": "code",
      "source": [
        "from google.colab import files\n",
        "files.download('bottleneck_fc_model.h5')"
      ],
      "execution_count": 0,
      "outputs": []
    },
    {
      "metadata": {
        "id": "emPwA-8U_mhD",
        "colab_type": "code",
        "colab": {
          "autoexec": {
            "startup": false,
            "wait_interval": 0
          }
        }
      },
      "cell_type": "code",
      "source": [
        ""
      ],
      "execution_count": 0,
      "outputs": []
    }
  ]
}