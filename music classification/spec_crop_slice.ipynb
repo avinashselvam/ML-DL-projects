{
 "cells": [
  {
   "cell_type": "code",
   "execution_count": 6,
   "metadata": {},
   "outputs": [],
   "source": [
    "import cv2\n",
    "import os"
   ]
  },
  {
   "cell_type": "code",
   "execution_count": 3,
   "metadata": {},
   "outputs": [],
   "source": [
    "path = 'spectogram/'"
   ]
  },
  {
   "cell_type": "code",
   "execution_count": 4,
   "metadata": {},
   "outputs": [],
   "source": [
    "genres = ['blues', 'classical', 'country', 'disco', 'hiphop',\n",
    "          'jazz', 'metal', 'pop', 'reggae', 'rock']"
   ]
  },
  {
   "cell_type": "code",
   "execution_count": 53,
   "metadata": {},
   "outputs": [],
   "source": [
    "x = 50\n",
    "y = 7\n",
    "crop = []\n",
    "subdir = 'train/'"
   ]
  },
  {
   "cell_type": "code",
   "execution_count": 56,
   "metadata": {},
   "outputs": [],
   "source": [
    "for genre in genres:\n",
    "    j = 0\n",
    "    \n",
    "    direc = 'spectogram/'+ genre\n",
    "    for i, name in enumerate(os.listdir(direc)):\n",
    "        if j >= 0 and j < 200:\n",
    "            subdir = 'train/'\n",
    "        if j >= 200 and j < 250:\n",
    "            subdir = 'valid/'\n",
    "        if j >= 250:\n",
    "            subdir = 'test/'\n",
    "        img = cv2.imread(direc+'/'+name, cv2.IMREAD_GRAYSCALE)\n",
    "        crop1 = img[7:7+299, 50:50+128]\n",
    "        crop2 = img[7:7+299, 50+128:50+256]\n",
    "        crop3 = img[7:7+299, 50+256:50+384]\n",
    "        for crop_img in [crop1, crop2, crop3]:\n",
    "            resized = cv2.resize(crop_img, (128, 128),\n",
    "                                 interpolation=cv2.INTER_AREA)\n",
    "            cv2.imwrite('spec2/'+subdir+genre+str(j)+'.png', resized)\n",
    "            j += 1"
   ]
  },
  {
   "cell_type": "code",
   "execution_count": 21,
   "metadata": {},
   "outputs": [
    {
     "data": {
      "text/plain": [
       "(67, 447)"
      ]
     },
     "execution_count": 21,
     "metadata": {},
     "output_type": "execute_result"
    }
   ],
   "source": [
    "crop_img.shape"
   ]
  },
  {
   "cell_type": "code",
   "execution_count": 28,
   "metadata": {},
   "outputs": [
    {
     "data": {
      "text/plain": [
       "(330, 501)"
      ]
     },
     "execution_count": 28,
     "metadata": {},
     "output_type": "execute_result"
    }
   ],
   "source": [
    "img.shape"
   ]
  },
  {
   "cell_type": "code",
   "execution_count": 40,
   "metadata": {},
   "outputs": [
    {
     "data": {
      "text/plain": [
       "300"
      ]
     },
     "execution_count": 40,
     "metadata": {},
     "output_type": "execute_result"
    }
   ],
   "source": [
    "j"
   ]
  },
  {
   "cell_type": "code",
   "execution_count": null,
   "metadata": {},
   "outputs": [],
   "source": []
  }
 ],
 "metadata": {
  "kernelspec": {
   "display_name": "Python 2",
   "language": "python",
   "name": "python2"
  },
  "language_info": {
   "codemirror_mode": {
    "name": "ipython",
    "version": 2
   },
   "file_extension": ".py",
   "mimetype": "text/x-python",
   "name": "python",
   "nbconvert_exporter": "python",
   "pygments_lexer": "ipython2",
   "version": "2.7.14"
  }
 },
 "nbformat": 4,
 "nbformat_minor": 2
}
