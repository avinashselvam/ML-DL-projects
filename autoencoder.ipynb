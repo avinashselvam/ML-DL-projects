{
  "nbformat": 4,
  "nbformat_minor": 0,
  "metadata": {
    "colab": {
      "name": "autoencoder.ipynb",
      "version": "0.3.2",
      "views": {},
      "default_view": {},
      "provenance": []
    },
    "kernelspec": {
      "name": "python3",
      "display_name": "Python 3"
    },
    "accelerator": "GPU"
  },
  "cells": [
    {
      "metadata": {
        "id": "7VZ4cqOOZHLC",
        "colab_type": "code",
        "colab": {
          "autoexec": {
            "startup": false,
            "wait_interval": 0
          },
          "base_uri": "https://localhost:8080/",
          "height": 34
        },
        "outputId": "caa72949-a595-4ec9-dfff-b3d78959e9f3",
        "executionInfo": {
          "status": "ok",
          "timestamp": 1521282397804,
          "user_tz": -330,
          "elapsed": 8372,
          "user": {
            "displayName": "Avinash Selvam",
            "photoUrl": "//lh6.googleusercontent.com/-OWw3sMItg1E/AAAAAAAAAAI/AAAAAAAAAh4/CZwfXx18yUg/s50-c-k-no/photo.jpg",
            "userId": "106485937356478174490"
          }
        }
      },
      "cell_type": "code",
      "source": [
        "from keras import Input, Model\n",
        "from keras.layers import Dense"
      ],
      "execution_count": 1,
      "outputs": [
        {
          "output_type": "stream",
          "text": [
            "Using TensorFlow backend.\n"
          ],
          "name": "stderr"
        }
      ]
    },
    {
      "metadata": {
        "id": "OLwpC9MCfaVx",
        "colab_type": "code",
        "colab": {
          "autoexec": {
            "startup": false,
            "wait_interval": 0
          },
          "base_uri": "https://localhost:8080/",
          "height": 153
        },
        "outputId": "6755ea27-010b-4441-8acd-196e72614052",
        "executionInfo": {
          "status": "ok",
          "timestamp": 1521282400957,
          "user_tz": -330,
          "elapsed": 3127,
          "user": {
            "displayName": "Avinash Selvam",
            "photoUrl": "//lh6.googleusercontent.com/-OWw3sMItg1E/AAAAAAAAAAI/AAAAAAAAAh4/CZwfXx18yUg/s50-c-k-no/photo.jpg",
            "userId": "106485937356478174490"
          }
        }
      },
      "cell_type": "code",
      "source": [
        "from tensorflow.examples.tutorials.mnist import input_data\n",
        "mnist = input_data.read_data_sets('MNIST_data', one_hot=True)"
      ],
      "execution_count": 2,
      "outputs": [
        {
          "output_type": "stream",
          "text": [
            "Successfully downloaded train-images-idx3-ubyte.gz 9912422 bytes.\n",
            "Extracting MNIST_data/train-images-idx3-ubyte.gz\n",
            "Successfully downloaded train-labels-idx1-ubyte.gz 28881 bytes.\n",
            "Extracting MNIST_data/train-labels-idx1-ubyte.gz\n",
            "Successfully downloaded t10k-images-idx3-ubyte.gz 1648877 bytes.\n",
            "Extracting MNIST_data/t10k-images-idx3-ubyte.gz\n",
            "Successfully downloaded t10k-labels-idx1-ubyte.gz 4542 bytes.\n",
            "Extracting MNIST_data/t10k-labels-idx1-ubyte.gz\n"
          ],
          "name": "stdout"
        }
      ]
    },
    {
      "metadata": {
        "id": "G_CyipJifeg-",
        "colab_type": "code",
        "colab": {
          "autoexec": {
            "startup": false,
            "wait_interval": 0
          }
        }
      },
      "cell_type": "code",
      "source": [
        "x_train = mnist.train.images"
      ],
      "execution_count": 0,
      "outputs": []
    },
    {
      "metadata": {
        "id": "IZFv0Z5baGXb",
        "colab_type": "code",
        "colab": {
          "autoexec": {
            "startup": false,
            "wait_interval": 0
          }
        }
      },
      "cell_type": "code",
      "source": [
        "input_size = 784\n",
        "hidden_size = 128\n",
        "code_size = 32"
      ],
      "execution_count": 0,
      "outputs": []
    },
    {
      "metadata": {
        "id": "YaWdWAHVacgp",
        "colab_type": "code",
        "colab": {
          "autoexec": {
            "startup": false,
            "wait_interval": 0
          }
        }
      },
      "cell_type": "code",
      "source": [
        "input_img = Input(shape=(input_size,))\n",
        "\n",
        "hidden1 = Dense(hidden_size, activation='relu')(input_img)\n",
        "\n",
        "code = Dense(code_size, activation='relu')(hidden1)\n",
        "\n",
        "hidden2 = Dense(hidden_size, activation='relu')(code)\n",
        "\n",
        "output_img = Dense(input_size, activation='sigmoid')(hidden2)"
      ],
      "execution_count": 0,
      "outputs": []
    },
    {
      "metadata": {
        "id": "4c-JlVE3bGVF",
        "colab_type": "code",
        "colab": {
          "autoexec": {
            "startup": false,
            "wait_interval": 0
          },
          "base_uri": "https://localhost:8080/",
          "height": 204
        },
        "outputId": "3f5b25ef-6f2a-4cd6-c0fd-c464c2ed41cf",
        "executionInfo": {
          "status": "ok",
          "timestamp": 1521282466016,
          "user_tz": -330,
          "elapsed": 50710,
          "user": {
            "displayName": "Avinash Selvam",
            "photoUrl": "//lh6.googleusercontent.com/-OWw3sMItg1E/AAAAAAAAAAI/AAAAAAAAAh4/CZwfXx18yUg/s50-c-k-no/photo.jpg",
            "userId": "106485937356478174490"
          }
        }
      },
      "cell_type": "code",
      "source": [
        "autoencoder = Model(input_img, output_img)\n",
        "\n",
        "autoencoder.compile(optimizer='adam', loss='binary_crossentropy')\n",
        "\n",
        "autoencoder.fit(x_train, x_train, epochs=5)"
      ],
      "execution_count": 7,
      "outputs": [
        {
          "output_type": "stream",
          "text": [
            "Epoch 1/5\n",
            "55000/55000 [==============================] - 10s 189us/step - loss: 0.1420\n",
            "Epoch 2/5\n",
            "55000/55000 [==============================] - 10s 178us/step - loss: 0.1018\n",
            "Epoch 3/5\n",
            "55000/55000 [==============================] - 10s 177us/step - loss: 0.0953\n",
            "Epoch 4/5\n",
            " 6080/55000 [==>...........................] - ETA: 8s - loss: 0.0935"
          ],
          "name": "stdout"
        },
        {
          "output_type": "stream",
          "text": [
            "55000/55000 [==============================] - 10s 178us/step - loss: 0.0925\n",
            "Epoch 5/5\n",
            "55000/55000 [==============================] - 10s 178us/step - loss: 0.0907\n"
          ],
          "name": "stdout"
        },
        {
          "output_type": "execute_result",
          "data": {
            "text/plain": [
              "<keras.callbacks.History at 0x7fc60625cda0>"
            ]
          },
          "metadata": {
            "tags": []
          },
          "execution_count": 7
        }
      ]
    },
    {
      "metadata": {
        "id": "-aZdo9Qqfsid",
        "colab_type": "code",
        "colab": {
          "autoexec": {
            "startup": false,
            "wait_interval": 0
          }
        }
      },
      "cell_type": "code",
      "source": [
        "x_test = mnist.test.images"
      ],
      "execution_count": 0,
      "outputs": []
    },
    {
      "metadata": {
        "id": "S577SPdSgYIa",
        "colab_type": "code",
        "colab": {
          "autoexec": {
            "startup": false,
            "wait_interval": 0
          }
        }
      },
      "cell_type": "code",
      "source": [
        "reconstructed = autoencoder.predict(x_test)"
      ],
      "execution_count": 0,
      "outputs": []
    },
    {
      "metadata": {
        "id": "9QBdMWlRgedT",
        "colab_type": "code",
        "colab": {
          "autoexec": {
            "startup": false,
            "wait_interval": 0
          }
        }
      },
      "cell_type": "code",
      "source": [
        "source = x_test[0].reshape((28,28))\n",
        "result = reconstructed[0].reshape((28,28))"
      ],
      "execution_count": 0,
      "outputs": []
    },
    {
      "metadata": {
        "id": "P45rPyJUglmf",
        "colab_type": "code",
        "colab": {
          "autoexec": {
            "startup": false,
            "wait_interval": 0
          },
          "base_uri": "https://localhost:8080/",
          "height": 677
        },
        "outputId": "d0326750-f4c9-41b5-bdb7-021ac1c867b5",
        "executionInfo": {
          "status": "ok",
          "timestamp": 1521282738649,
          "user_tz": -330,
          "elapsed": 821,
          "user": {
            "displayName": "Avinash Selvam",
            "photoUrl": "//lh6.googleusercontent.com/-OWw3sMItg1E/AAAAAAAAAAI/AAAAAAAAAh4/CZwfXx18yUg/s50-c-k-no/photo.jpg",
            "userId": "106485937356478174490"
          }
        }
      },
      "cell_type": "code",
      "source": [
        "import matplotlib.pyplot as plt\n",
        "\n",
        "plt.imshow(result)\n",
        "plt.show()\n",
        "plt.imshow(source)\n",
        "plt.show()"
      ],
      "execution_count": 18,
      "outputs": [
        {
          "output_type": "display_data",
          "data": {
            "image/png": "[encoded data removed]",
            "text/plain": [
              "<matplotlib.figure.Figure at 0x7fc606298320>"
            ]
          },
          "metadata": {
            "tags": []
          }
        },
        {
          "output_type": "display_data",
          "data": {
            "image/png": "[encoded data removed]",
            "text/plain": [
              "<matplotlib.figure.Figure at 0x7fc601cc2160>"
            ]
          },
          "metadata": {
            "tags": []
          }
        }
      ]
    },
    {
      "metadata": {
        "id": "VKWrU0Ongu-S",
        "colab_type": "code",
        "colab": {
          "autoexec": {
            "startup": false,
            "wait_interval": 0
          },
          "base_uri": "https://localhost:8080/",
          "height": 34
        },
        "outputId": "28e98a74-e0ab-4ead-8e8d-04f925a6421f",
        "executionInfo": {
          "status": "ok",
          "timestamp": 1521282893216,
          "user_tz": -330,
          "elapsed": 1478,
          "user": {
            "displayName": "Avinash Selvam",
            "photoUrl": "//lh6.googleusercontent.com/-OWw3sMItg1E/AAAAAAAAAAI/AAAAAAAAAh4/CZwfXx18yUg/s50-c-k-no/photo.jpg",
            "userId": "106485937356478174490"
          }
        }
      },
      "cell_type": "code",
      "source": [
        "x_train.shape"
      ],
      "execution_count": 19,
      "outputs": [
        {
          "output_type": "execute_result",
          "data": {
            "text/plain": [
              "(55000, 784)"
            ]
          },
          "metadata": {
            "tags": []
          },
          "execution_count": 19
        }
      ]
    },
    {
      "metadata": {
        "id": "zKELBOLBhddS",
        "colab_type": "text"
      },
      "cell_type": "markdown",
      "source": [
        "## Denoising autoencoder"
      ]
    },
    {
      "metadata": {
        "id": "BuGklKWHh47Q",
        "colab_type": "code",
        "colab": {
          "autoexec": {
            "startup": false,
            "wait_interval": 0
          }
        }
      },
      "cell_type": "code",
      "source": [
        "import numpy as np"
      ],
      "execution_count": 0,
      "outputs": []
    },
    {
      "metadata": {
        "id": "NThOPL47hhs0",
        "colab_type": "code",
        "colab": {
          "autoexec": {
            "startup": false,
            "wait_interval": 0
          }
        }
      },
      "cell_type": "code",
      "source": [
        "x_train_noisy = x_train + np.random.normal(scale=0.1, size=x_train.shape)\n",
        "\n",
        "x_test_noisy = x_test + np.random.normal(scale=0.1, size=x_test.shape)"
      ],
      "execution_count": 0,
      "outputs": []
    },
    {
      "metadata": {
        "id": "0Zg2R43YibvN",
        "colab_type": "code",
        "colab": {
          "autoexec": {
            "startup": false,
            "wait_interval": 0
          },
          "base_uri": "https://localhost:8080/",
          "height": 677
        },
        "outputId": "d6363522-49ed-41dd-a313-e87580faa3df",
        "executionInfo": {
          "status": "ok",
          "timestamp": 1521283260717,
          "user_tz": -330,
          "elapsed": 1162,
          "user": {
            "displayName": "Avinash Selvam",
            "photoUrl": "//lh6.googleusercontent.com/-OWw3sMItg1E/AAAAAAAAAAI/AAAAAAAAAh4/CZwfXx18yUg/s50-c-k-no/photo.jpg",
            "userId": "106485937356478174490"
          }
        }
      },
      "cell_type": "code",
      "source": [
        "plt.imshow(x_train[0].reshape((28,28)))\n",
        "plt.show()\n",
        "plt.imshow(x_train_noisy[0].reshape((28,28)))\n",
        "plt.show()"
      ],
      "execution_count": 30,
      "outputs": [
        {
          "output_type": "display_data",
          "data": {
            "image/png": "[encoded data removed]",
            "text/plain": [
              "<matplotlib.figure.Figure at 0x7fc5feff58d0>"
            ]
          },
          "metadata": {
            "tags": []
          }
        },
        {
          "output_type": "display_data",
          "data": {
            "image/png": "[encoded data removed]",
            "text/plain": [
              "<matplotlib.figure.Figure at 0x7fc5ff1838d0>"
            ]
          },
          "metadata": {
            "tags": []
          }
        }
      ]
    },
    {
      "metadata": {
        "id": "5oTgNfIOh18U",
        "colab_type": "code",
        "colab": {
          "autoexec": {
            "startup": false,
            "wait_interval": 0
          },
          "base_uri": "https://localhost:8080/",
          "height": 204
        },
        "outputId": "7ea9bcfd-34b2-47b3-f3b2-b35e60025ec2",
        "executionInfo": {
          "status": "ok",
          "timestamp": 1521283966328,
          "user_tz": -330,
          "elapsed": 50185,
          "user": {
            "displayName": "Avinash Selvam",
            "photoUrl": "//lh6.googleusercontent.com/-OWw3sMItg1E/AAAAAAAAAAI/AAAAAAAAAh4/CZwfXx18yUg/s50-c-k-no/photo.jpg",
            "userId": "106485937356478174490"
          }
        }
      },
      "cell_type": "code",
      "source": [
        "d_autoencoder = autoencoder\n",
        "\n",
        "d_autoencoder.fit(x_train_noisy, x_train, epochs=5)"
      ],
      "execution_count": 31,
      "outputs": [
        {
          "output_type": "stream",
          "text": [
            "Epoch 1/5\n",
            "55000/55000 [==============================] - 10s 175us/step - loss: 0.0929\n",
            "Epoch 2/5\n",
            "55000/55000 [==============================] - 10s 179us/step - loss: 0.0914\n",
            "Epoch 3/5\n",
            "55000/55000 [==============================] - 10s 182us/step - loss: 0.0906\n",
            "Epoch 4/5\n",
            " 3456/55000 [>.............................] - ETA: 9s - loss: 0.0897"
          ],
          "name": "stdout"
        },
        {
          "output_type": "stream",
          "text": [
            "55000/55000 [==============================] - 10s 180us/step - loss: 0.0900\n",
            "Epoch 5/5\n",
            "55000/55000 [==============================] - 10s 179us/step - loss: 0.0895\n"
          ],
          "name": "stdout"
        },
        {
          "output_type": "execute_result",
          "data": {
            "text/plain": [
              "<keras.callbacks.History at 0x7fc5fef10978>"
            ]
          },
          "metadata": {
            "tags": []
          },
          "execution_count": 31
        }
      ]
    },
    {
      "metadata": {
        "id": "QFUgkjkNiDnr",
        "colab_type": "code",
        "colab": {
          "autoexec": {
            "startup": false,
            "wait_interval": 0
          }
        }
      },
      "cell_type": "code",
      "source": [
        "d_reconstructed = d_autoencoder.predict(x_test_noisy)"
      ],
      "execution_count": 0,
      "outputs": []
    },
    {
      "metadata": {
        "id": "urGzmY-Hl-nG",
        "colab_type": "code",
        "colab": {
          "autoexec": {
            "startup": false,
            "wait_interval": 0
          },
          "base_uri": "https://localhost:8080/",
          "height": 677
        },
        "outputId": "45ba3002-7959-491e-9dbb-0fb320225f7b",
        "executionInfo": {
          "status": "ok",
          "timestamp": 1521284112778,
          "user_tz": -330,
          "elapsed": 810,
          "user": {
            "displayName": "Avinash Selvam",
            "photoUrl": "//lh6.googleusercontent.com/-OWw3sMItg1E/AAAAAAAAAAI/AAAAAAAAAh4/CZwfXx18yUg/s50-c-k-no/photo.jpg",
            "userId": "106485937356478174490"
          }
        }
      },
      "cell_type": "code",
      "source": [
        "plt.imshow(d_reconstructed[1].reshape((28,28)))\n",
        "plt.show()\n",
        "plt.imshow(x_test_noisy[1].reshape((28,28)))\n",
        "plt.show()"
      ],
      "execution_count": 37,
      "outputs": [
        {
          "output_type": "display_data",
          "data": {
            "image/png": "[encoded data removed]",
            "text/plain": [
              "<matplotlib.figure.Figure at 0x7fc5fed3a828>"
            ]
          },
          "metadata": {
            "tags": []
          }
        },
        {
          "output_type": "display_data",
          "data": {
            "image/png": "[encoded data removed]",
            "text/plain": [
              "<matplotlib.figure.Figure at 0x7fc5fecc5c88>"
            ]
          },
          "metadata": {
            "tags": []
          }
        }
      ]
    },
    {
      "metadata": {
        "id": "zeQ9LYswmFvF",
        "colab_type": "code",
        "colab": {
          "autoexec": {
            "startup": false,
            "wait_interval": 0
          }
        }
      },
      "cell_type": "code",
      "source": [
        ""
      ],
      "execution_count": 0,
      "outputs": []
    }
  ]
}