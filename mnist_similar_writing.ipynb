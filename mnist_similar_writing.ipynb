{
  "nbformat": 4,
  "nbformat_minor": 0,
  "metadata": {
    "colab": {
      "name": "mnist_similar_handwriting.ipynb",
      "version": "0.3.2",
      "views": {},
      "default_view": {},
      "provenance": []
    },
    "kernelspec": {
      "name": "python3",
      "display_name": "Python 3"
    },
    "accelerator": "GPU"
  },
  "cells": [
    {
      "metadata": {
        "id": "7ZJ7WLgeuNRz",
        "colab_type": "code",
        "colab": {
          "autoexec": {
            "startup": false,
            "wait_interval": 0
          }
        }
      },
      "cell_type": "code",
      "source": [
        "from keras.layers import Input, Dense, Conv2D, MaxPooling2D, UpSampling2D\n",
        "from keras.models import Model\n",
        "from keras import backend as K"
      ],
      "execution_count": 0,
      "outputs": []
    },
    {
      "metadata": {
        "id": "RMv90SUU5N9A",
        "colab_type": "code",
        "colab": {
          "autoexec": {
            "startup": false,
            "wait_interval": 0
          }
        }
      },
      "cell_type": "code",
      "source": [
        "import matplotlib.pyplot as plt"
      ],
      "execution_count": 0,
      "outputs": []
    },
    {
      "metadata": {
        "id": "go6mlQIFuNR4",
        "colab_type": "code",
        "colab": {
          "autoexec": {
            "startup": false,
            "wait_interval": 0
          }
        }
      },
      "cell_type": "code",
      "source": [
        "input_img = Input(shape=(28, 28, 1))"
      ],
      "execution_count": 0,
      "outputs": []
    },
    {
      "metadata": {
        "id": "507iL4AXuNR7",
        "colab_type": "code",
        "colab": {
          "autoexec": {
            "startup": false,
            "wait_interval": 0
          }
        }
      },
      "cell_type": "code",
      "source": [
        "x = Conv2D(16, (3, 3), activation='relu', padding='same')(input_img)\n",
        "x = MaxPooling2D((2, 2), padding='same')(x)\n",
        "x = Conv2D(8, (3, 3), activation='relu', padding='same')(x)\n",
        "x = MaxPooling2D((2, 2), padding='same')(x)\n",
        "x = Conv2D(8, (3, 3), activation='relu', padding='same')(x)\n",
        "encoded = MaxPooling2D((2, 2), padding='same')(x)"
      ],
      "execution_count": 0,
      "outputs": []
    },
    {
      "metadata": {
        "id": "uioxnd8luNR9",
        "colab_type": "code",
        "colab": {
          "autoexec": {
            "startup": false,
            "wait_interval": 0
          }
        }
      },
      "cell_type": "code",
      "source": [
        "x = Conv2D(8, (3, 3), activation='relu', padding='same')(encoded)\n",
        "x = UpSampling2D((2, 2))(x)\n",
        "x = Conv2D(8, (3, 3), activation='relu', padding='same')(x)\n",
        "x = UpSampling2D((2, 2))(x)\n",
        "x = Conv2D(8, (3, 3), activation='relu')(x)\n",
        "x = UpSampling2D((2, 2))(x)\n",
        "decoded = Conv2D(1, (3, 3), activation='sigmoid', padding='same')(x)"
      ],
      "execution_count": 0,
      "outputs": []
    },
    {
      "metadata": {
        "id": "Sks4ONuzuNSA",
        "colab_type": "code",
        "colab": {
          "autoexec": {
            "startup": false,
            "wait_interval": 0
          }
        }
      },
      "cell_type": "code",
      "source": [
        "autoencoder = Model(input_img, decoded)\n",
        "autoencoder.compile(optimizer='adadelta', loss='binary_crossentropy')"
      ],
      "execution_count": 0,
      "outputs": []
    },
    {
      "metadata": {
        "id": "uwmdgpWiuNSC",
        "colab_type": "code",
        "colab": {
          "autoexec": {
            "startup": false,
            "wait_interval": 0
          },
          "base_uri": "https://localhost:8080/",
          "height": 51
        },
        "outputId": "e4ca04e4-0509-486c-b5ba-2b3b0716080a",
        "executionInfo": {
          "status": "ok",
          "timestamp": 1523031062110,
          "user_tz": -330,
          "elapsed": 2268,
          "user": {
            "displayName": "Avinash Selvam",
            "photoUrl": "//lh6.googleusercontent.com/-OWw3sMItg1E/AAAAAAAAAAI/AAAAAAAACUE/mZc3wcAlA_A/s50-c-k-no/photo.jpg",
            "userId": "106485937356478174490"
          }
        }
      },
      "cell_type": "code",
      "source": [
        "from keras.datasets import mnist\n",
        "import numpy as np\n",
        "\n",
        "(x_train, _), (x_test, _) = mnist.load_data()\n",
        "\n",
        "x_train = x_train.astype('float32') / 255.\n",
        "x_test = x_test.astype('float32') / 255.\n",
        "x_train = np.reshape(x_train, (len(x_train), 28, 28, 1))\n",
        "x_test = np.reshape(x_test, (len(x_test), 28, 28, 1))"
      ],
      "execution_count": 6,
      "outputs": [
        {
          "output_type": "stream",
          "text": [
            "Downloading data from https://s3.amazonaws.com/img-datasets/mnist.npz\n",
            "11493376/11490434 [==============================] - 0s 0us/step\n"
          ],
          "name": "stdout"
        }
      ]
    },
    {
      "metadata": {
        "id": "d1k9eSkauNSG",
        "colab_type": "code",
        "colab": {
          "autoexec": {
            "startup": false,
            "wait_interval": 0
          },
          "base_uri": "https://localhost:8080/",
          "height": 1751
        },
        "outputId": "688aac1d-8fd6-4c96-a29a-2d16434ae4d0",
        "executionInfo": {
          "status": "ok",
          "timestamp": 1523031530361,
          "user_tz": -330,
          "elapsed": 442363,
          "user": {
            "displayName": "Avinash Selvam",
            "photoUrl": "//lh6.googleusercontent.com/-OWw3sMItg1E/AAAAAAAAAAI/AAAAAAAACUE/mZc3wcAlA_A/s50-c-k-no/photo.jpg",
            "userId": "106485937356478174490"
          }
        }
      },
      "cell_type": "code",
      "source": [
        "autoencoder.fit(x_train, x_train,\n",
        "                epochs=50,\n",
        "                batch_size=128,\n",
        "                shuffle=True,\n",
        "                validation_data=(x_test, x_test),\n",
        "                verbose=1)"
      ],
      "execution_count": 8,
      "outputs": [
        {
          "output_type": "stream",
          "text": [
            "Train on 60000 samples, validate on 10000 samples\n",
            "Epoch 1/50\n",
            "60000/60000 [==============================] - 11s 181us/step - loss: 0.2126 - val_loss: 0.1560\n",
            "Epoch 2/50\n",
            "60000/60000 [==============================] - 9s 150us/step - loss: 0.1499 - val_loss: 0.1430\n",
            "Epoch 3/50\n",
            "46592/60000 [======================>.......] - ETA: 1s - loss: 0.1374"
          ],
          "name": "stdout"
        },
        {
          "output_type": "stream",
          "text": [
            "60000/60000 [==============================] - 9s 149us/step - loss: 0.1362 - val_loss: 0.1279\n",
            "Epoch 4/50\n",
            "60000/60000 [==============================] - 9s 146us/step - loss: 0.1293 - val_loss: 0.1257\n",
            "Epoch 5/50\n",
            "60000/60000 [==============================] - 9s 148us/step - loss: 0.1253 - val_loss: 0.1222\n",
            "Epoch 6/50\n",
            "25088/60000 [===========>..................] - ETA: 4s - loss: 0.1226"
          ],
          "name": "stdout"
        },
        {
          "output_type": "stream",
          "text": [
            "60000/60000 [==============================] - 9s 147us/step - loss: 0.1222 - val_loss: 0.1186\n",
            "Epoch 7/50\n",
            "60000/60000 [==============================] - 9s 147us/step - loss: 0.1197 - val_loss: 0.1199\n",
            "Epoch 8/50\n",
            "60000/60000 [==============================] - 9s 148us/step - loss: 0.1179 - val_loss: 0.1173\n",
            "Epoch 9/50\n",
            "21248/60000 [=========>....................] - ETA: 5s - loss: 0.1169"
          ],
          "name": "stdout"
        },
        {
          "output_type": "stream",
          "text": [
            "60000/60000 [==============================] - 9s 146us/step - loss: 0.1162 - val_loss: 0.1111\n",
            "Epoch 10/50\n",
            "60000/60000 [==============================] - 9s 145us/step - loss: 0.1148 - val_loss: 0.1146\n",
            "Epoch 11/50\n",
            "60000/60000 [==============================] - 9s 146us/step - loss: 0.1138 - val_loss: 0.1127\n",
            "Epoch 12/50\n",
            "20096/60000 [=========>....................] - ETA: 5s - loss: 0.1131"
          ],
          "name": "stdout"
        },
        {
          "output_type": "stream",
          "text": [
            "60000/60000 [==============================] - 9s 146us/step - loss: 0.1131 - val_loss: 0.1112\n",
            "Epoch 13/50\n",
            "60000/60000 [==============================] - 9s 145us/step - loss: 0.1122 - val_loss: 0.1102\n",
            "Epoch 14/50\n",
            "60000/60000 [==============================] - 9s 146us/step - loss: 0.1116 - val_loss: 0.1083\n",
            "Epoch 15/50\n",
            "19712/60000 [========>.....................] - ETA: 5s - loss: 0.1114"
          ],
          "name": "stdout"
        },
        {
          "output_type": "stream",
          "text": [
            "60000/60000 [==============================] - 9s 146us/step - loss: 0.1111 - val_loss: 0.1087\n",
            "Epoch 16/50\n",
            "60000/60000 [==============================] - 9s 146us/step - loss: 0.1105 - val_loss: 0.1094\n",
            "Epoch 17/50\n",
            "60000/60000 [==============================] - 9s 148us/step - loss: 0.1099 - val_loss: 0.1089\n",
            "Epoch 18/50\n",
            "19712/60000 [========>.....................] - ETA: 5s - loss: 0.1092"
          ],
          "name": "stdout"
        },
        {
          "output_type": "stream",
          "text": [
            "60000/60000 [==============================] - 9s 146us/step - loss: 0.1093 - val_loss: 0.1107\n",
            "Epoch 19/50\n",
            "60000/60000 [==============================] - 9s 145us/step - loss: 0.1090 - val_loss: 0.1099\n",
            "Epoch 20/50\n",
            "60000/60000 [==============================] - 9s 146us/step - loss: 0.1087 - val_loss: 0.1062\n",
            "Epoch 21/50\n",
            "19712/60000 [========>.....................] - ETA: 5s - loss: 0.1087"
          ],
          "name": "stdout"
        },
        {
          "output_type": "stream",
          "text": [
            "60000/60000 [==============================] - 9s 147us/step - loss: 0.1083 - val_loss: 0.1108\n",
            "Epoch 22/50\n",
            "60000/60000 [==============================] - 9s 145us/step - loss: 0.1080 - val_loss: 0.1090\n",
            "Epoch 23/50\n",
            "60000/60000 [==============================] - 9s 145us/step - loss: 0.1076 - val_loss: 0.1029\n",
            "Epoch 24/50\n",
            "19712/60000 [========>.....................] - ETA: 5s - loss: 0.1074"
          ],
          "name": "stdout"
        },
        {
          "output_type": "stream",
          "text": [
            "60000/60000 [==============================] - 9s 145us/step - loss: 0.1069 - val_loss: 0.1065\n",
            "Epoch 25/50\n",
            "60000/60000 [==============================] - 9s 147us/step - loss: 0.1067 - val_loss: 0.1038\n",
            "Epoch 26/50\n",
            "60000/60000 [==============================] - 9s 149us/step - loss: 0.1064 - val_loss: 0.1049\n",
            "Epoch 27/50\n",
            "19712/60000 [========>.....................] - ETA: 5s - loss: 0.1064"
          ],
          "name": "stdout"
        },
        {
          "output_type": "stream",
          "text": [
            "60000/60000 [==============================] - 9s 146us/step - loss: 0.1061 - val_loss: 0.1029\n",
            "Epoch 28/50\n",
            "60000/60000 [==============================] - 9s 148us/step - loss: 0.1056 - val_loss: 0.1015\n",
            "Epoch 29/50\n",
            "60000/60000 [==============================] - 9s 147us/step - loss: 0.1052 - val_loss: 0.1044\n",
            "Epoch 30/50\n",
            "19712/60000 [========>.....................] - ETA: 5s - loss: 0.1050"
          ],
          "name": "stdout"
        },
        {
          "output_type": "stream",
          "text": [
            "60000/60000 [==============================] - 9s 145us/step - loss: 0.1051 - val_loss: 0.1028\n",
            "Epoch 31/50\n",
            "60000/60000 [==============================] - 9s 145us/step - loss: 0.1046 - val_loss: 0.1023\n",
            "Epoch 32/50\n",
            "60000/60000 [==============================] - 9s 143us/step - loss: 0.1046 - val_loss: 0.1032\n",
            "Epoch 33/50\n",
            "19712/60000 [========>.....................] - ETA: 5s - loss: 0.1043"
          ],
          "name": "stdout"
        },
        {
          "output_type": "stream",
          "text": [
            "60000/60000 [==============================] - 9s 146us/step - loss: 0.1044 - val_loss: 0.1034\n",
            "Epoch 34/50\n",
            "60000/60000 [==============================] - 9s 147us/step - loss: 0.1040 - val_loss: 0.1040\n",
            "Epoch 35/50\n",
            "60000/60000 [==============================] - 9s 146us/step - loss: 0.1039 - val_loss: 0.1034\n",
            "Epoch 36/50\n",
            "19712/60000 [========>.....................] - ETA: 5s - loss: 0.1033"
          ],
          "name": "stdout"
        },
        {
          "output_type": "stream",
          "text": [
            "60000/60000 [==============================] - 9s 147us/step - loss: 0.1038 - val_loss: 0.1067\n",
            "Epoch 37/50\n",
            "60000/60000 [==============================] - 9s 146us/step - loss: 0.1034 - val_loss: 0.1044\n",
            "Epoch 38/50\n",
            "60000/60000 [==============================] - 9s 146us/step - loss: 0.1033 - val_loss: 0.1011\n",
            "Epoch 39/50\n",
            "19712/60000 [========>.....................] - ETA: 5s - loss: 0.1029"
          ],
          "name": "stdout"
        },
        {
          "output_type": "stream",
          "text": [
            "60000/60000 [==============================] - 9s 147us/step - loss: 0.1031 - val_loss: 0.1030\n",
            "Epoch 40/50\n",
            "60000/60000 [==============================] - 9s 144us/step - loss: 0.1030 - val_loss: 0.1013\n",
            "Epoch 41/50\n",
            "60000/60000 [==============================] - 9s 146us/step - loss: 0.1028 - val_loss: 0.0999\n",
            "Epoch 42/50\n",
            "19712/60000 [========>.....................] - ETA: 5s - loss: 0.1028"
          ],
          "name": "stdout"
        },
        {
          "output_type": "stream",
          "text": [
            "60000/60000 [==============================] - 9s 148us/step - loss: 0.1029 - val_loss: 0.1004\n",
            "Epoch 43/50\n",
            "60000/60000 [==============================] - 9s 146us/step - loss: 0.1025 - val_loss: 0.1001\n",
            "Epoch 44/50\n",
            "60000/60000 [==============================] - 9s 144us/step - loss: 0.1025 - val_loss: 0.1027\n",
            "Epoch 45/50\n",
            "19712/60000 [========>.....................] - ETA: 5s - loss: 0.1018"
          ],
          "name": "stdout"
        },
        {
          "output_type": "stream",
          "text": [
            "60000/60000 [==============================] - 9s 145us/step - loss: 0.1020 - val_loss: 0.0994\n",
            "Epoch 46/50\n",
            "60000/60000 [==============================] - 9s 142us/step - loss: 0.1022 - val_loss: 0.1017\n",
            "Epoch 47/50\n",
            "60000/60000 [==============================] - 9s 145us/step - loss: 0.1021 - val_loss: 0.1040\n",
            "Epoch 48/50\n",
            "19712/60000 [========>.....................] - ETA: 5s - loss: 0.1021"
          ],
          "name": "stdout"
        },
        {
          "output_type": "stream",
          "text": [
            "60000/60000 [==============================] - 9s 146us/step - loss: 0.1019 - val_loss: 0.1003\n",
            "Epoch 49/50\n",
            "60000/60000 [==============================] - 9s 147us/step - loss: 0.1018 - val_loss: 0.1025\n",
            "Epoch 50/50\n",
            "60000/60000 [==============================] - 9s 147us/step - loss: 0.1018 - val_loss: 0.0993\n"
          ],
          "name": "stdout"
        },
        {
          "output_type": "execute_result",
          "data": {
            "text/plain": [
              "<keras.callbacks.History at 0x7f238c3e2dd8>"
            ]
          },
          "metadata": {
            "tags": []
          },
          "execution_count": 8
        }
      ]
    },
    {
      "metadata": {
        "id": "VrvUT8NXuNSJ",
        "colab_type": "code",
        "colab": {
          "autoexec": {
            "startup": false,
            "wait_interval": 0
          }
        }
      },
      "cell_type": "code",
      "source": [
        "autoencoder.save('mnist_autoencoder.h5')"
      ],
      "execution_count": 0,
      "outputs": []
    },
    {
      "metadata": {
        "id": "TQ2r2Npkyu0i",
        "colab_type": "code",
        "colab": {
          "autoexec": {
            "startup": false,
            "wait_interval": 0
          },
          "base_uri": "https://localhost:8080/",
          "height": 370
        },
        "outputId": "b75ce570-2a0c-4ce8-aa57-8802c71fa0eb",
        "executionInfo": {
          "status": "ok",
          "timestamp": 1523034122691,
          "user_tz": -330,
          "elapsed": 1034,
          "user": {
            "displayName": "Avinash Selvam",
            "photoUrl": "//lh6.googleusercontent.com/-OWw3sMItg1E/AAAAAAAAAAI/AAAAAAAACUE/mZc3wcAlA_A/s50-c-k-no/photo.jpg",
            "userId": "106485937356478174490"
          }
        }
      },
      "cell_type": "code",
      "source": [
        "# from keras.models import load_model\n",
        "\n",
        "layer_name = 'encoded'\n",
        "encoder= Model(inputs=autoencoder.input,\n",
        "               outputs=autoencoder.layers[-8].output)\n",
        "encoder.summary()"
      ],
      "execution_count": 40,
      "outputs": [
        {
          "output_type": "stream",
          "text": [
            "_________________________________________________________________\n",
            "Layer (type)                 Output Shape              Param #   \n",
            "=================================================================\n",
            "input_2 (InputLayer)         (None, 28, 28, 1)         0         \n",
            "_________________________________________________________________\n",
            "conv2d_8 (Conv2D)            (None, 28, 28, 16)        160       \n",
            "_________________________________________________________________\n",
            "max_pooling2d_4 (MaxPooling2 (None, 14, 14, 16)        0         \n",
            "_________________________________________________________________\n",
            "conv2d_9 (Conv2D)            (None, 14, 14, 8)         1160      \n",
            "_________________________________________________________________\n",
            "max_pooling2d_5 (MaxPooling2 (None, 7, 7, 8)           0         \n",
            "_________________________________________________________________\n",
            "conv2d_10 (Conv2D)           (None, 7, 7, 8)           584       \n",
            "_________________________________________________________________\n",
            "max_pooling2d_6 (MaxPooling2 (None, 4, 4, 8)           0         \n",
            "=================================================================\n",
            "Total params: 1,904\n",
            "Trainable params: 1,904\n",
            "Non-trainable params: 0\n",
            "_________________________________________________________________\n"
          ],
          "name": "stdout"
        }
      ]
    },
    {
      "metadata": {
        "id": "9ncQrC-T0ik3",
        "colab_type": "code",
        "colab": {
          "autoexec": {
            "startup": false,
            "wait_interval": 0
          },
          "base_uri": "https://localhost:8080/",
          "height": 51
        },
        "outputId": "47fcb155-2771-4812-a64e-7b4c450081bd",
        "executionInfo": {
          "status": "ok",
          "timestamp": 1523035060533,
          "user_tz": -330,
          "elapsed": 1571,
          "user": {
            "displayName": "Avinash Selvam",
            "photoUrl": "//lh6.googleusercontent.com/-OWw3sMItg1E/AAAAAAAAAAI/AAAAAAAACUE/mZc3wcAlA_A/s50-c-k-no/photo.jpg",
            "userId": "106485937356478174490"
          }
        }
      },
      "cell_type": "code",
      "source": [
        "features = encoder.predict(x_test)\n",
        "print(features.shape)\n",
        "flat_feat = features.reshape(10000, 4*4*8)\n",
        "print(flat_feat.shape)"
      ],
      "execution_count": 45,
      "outputs": [
        {
          "output_type": "stream",
          "text": [
            "(10000, 4, 4, 8)\n",
            "(10000, 128)\n"
          ],
          "name": "stdout"
        }
      ]
    },
    {
      "metadata": {
        "id": "5x6X7tCg0-jn",
        "colab_type": "code",
        "colab": {
          "autoexec": {
            "startup": false,
            "wait_interval": 0
          },
          "base_uri": "https://localhost:8080/",
          "height": 51
        },
        "outputId": "8bac0481-46fd-4b65-e579-5fbbbb02e9f8",
        "executionInfo": {
          "status": "ok",
          "timestamp": 1523035135743,
          "user_tz": -330,
          "elapsed": 1321,
          "user": {
            "displayName": "Avinash Selvam",
            "photoUrl": "//lh6.googleusercontent.com/-OWw3sMItg1E/AAAAAAAAAAI/AAAAAAAACUE/mZc3wcAlA_A/s50-c-k-no/photo.jpg",
            "userId": "106485937356478174490"
          }
        }
      },
      "cell_type": "code",
      "source": [
        "from sklearn.neighbors import NearestNeighbors\n",
        "\n",
        "model_knn = NearestNeighbors(metric='cosine', algorithm='brute')\n",
        "model_knn.fit(flat_feat)"
      ],
      "execution_count": 51,
      "outputs": [
        {
          "output_type": "execute_result",
          "data": {
            "text/plain": [
              "NearestNeighbors(algorithm='brute', leaf_size=30, metric='cosine',\n",
              "         metric_params=None, n_jobs=1, n_neighbors=5, p=2, radius=1.0)"
            ]
          },
          "metadata": {
            "tags": []
          },
          "execution_count": 51
        }
      ]
    },
    {
      "metadata": {
        "id": "MEMTXTzW2ee9",
        "colab_type": "code",
        "colab": {
          "autoexec": {
            "startup": false,
            "wait_interval": 0
          }
        }
      },
      "cell_type": "code",
      "source": [
        "query = np.random.choice(10000)\n",
        "dist, indices = model_knn.kneighbors(flat_feat[query].reshape(1, -1),\n",
        "                                     n_neighbors=3)"
      ],
      "execution_count": 0,
      "outputs": []
    },
    {
      "metadata": {
        "id": "QzRLtK6vANnd",
        "colab_type": "code",
        "colab": {
          "autoexec": {
            "startup": false,
            "wait_interval": 0
          },
          "base_uri": "https://localhost:8080/",
          "height": 34
        },
        "outputId": "80c50683-a2c2-494b-94a0-57e6d765243c",
        "executionInfo": {
          "status": "ok",
          "timestamp": 1523036027388,
          "user_tz": -330,
          "elapsed": 1191,
          "user": {
            "displayName": "Avinash Selvam",
            "photoUrl": "//lh6.googleusercontent.com/-OWw3sMItg1E/AAAAAAAAAAI/AAAAAAAACUE/mZc3wcAlA_A/s50-c-k-no/photo.jpg",
            "userId": "106485937356478174490"
          }
        }
      },
      "cell_type": "code",
      "source": [
        "query"
      ],
      "execution_count": 62,
      "outputs": [
        {
          "output_type": "execute_result",
          "data": {
            "text/plain": [
              "8059"
            ]
          },
          "metadata": {
            "tags": []
          },
          "execution_count": 62
        }
      ]
    },
    {
      "metadata": {
        "id": "xQ_PUIsFAFTn",
        "colab_type": "code",
        "colab": {
          "autoexec": {
            "startup": false,
            "wait_interval": 0
          },
          "base_uri": "https://localhost:8080/",
          "height": 34
        },
        "outputId": "2356e0f6-2567-423c-9644-008464d13edf",
        "executionInfo": {
          "status": "ok",
          "timestamp": 1523036029473,
          "user_tz": -330,
          "elapsed": 1031,
          "user": {
            "displayName": "Avinash Selvam",
            "photoUrl": "//lh6.googleusercontent.com/-OWw3sMItg1E/AAAAAAAAAAI/AAAAAAAACUE/mZc3wcAlA_A/s50-c-k-no/photo.jpg",
            "userId": "106485937356478174490"
          }
        }
      },
      "cell_type": "code",
      "source": [
        "indices"
      ],
      "execution_count": 63,
      "outputs": [
        {
          "output_type": "execute_result",
          "data": {
            "text/plain": [
              "array([[8059, 8079, 2433]])"
            ]
          },
          "metadata": {
            "tags": []
          },
          "execution_count": 63
        }
      ]
    },
    {
      "metadata": {
        "id": "mlaFibaPAWxP",
        "colab_type": "code",
        "colab": {
          "autoexec": {
            "startup": false,
            "wait_interval": 0
          },
          "base_uri": "https://localhost:8080/",
          "height": 364
        },
        "outputId": "3e417ec9-0be0-43c4-aaa6-15809e25a91c",
        "executionInfo": {
          "status": "ok",
          "timestamp": 1523036032008,
          "user_tz": -330,
          "elapsed": 1130,
          "user": {
            "displayName": "Avinash Selvam",
            "photoUrl": "//lh6.googleusercontent.com/-OWw3sMItg1E/AAAAAAAAAAI/AAAAAAAACUE/mZc3wcAlA_A/s50-c-k-no/photo.jpg",
            "userId": "106485937356478174490"
          }
        }
      },
      "cell_type": "code",
      "source": [
        "plt.imshow(x_test[indices[0][0]].reshape(28, 28))\n"
      ],
      "execution_count": 64,
      "outputs": [
        {
          "output_type": "execute_result",
          "data": {
            "text/plain": [
              "<matplotlib.image.AxesImage at 0x7f2352b6f0b8>"
            ]
          },
          "metadata": {
            "tags": []
          },
          "execution_count": 64
        },
        {
          "output_type": "display_data",
          "data": {
            "image/png": "[encoded data removed]",
            "text/plain": [
              "<matplotlib.figure.Figure at 0x7f2355d24c88>"
            ]
          },
          "metadata": {
            "tags": []
          }
        }
      ]
    },
    {
      "metadata": {
        "id": "PlioIisB7rP9",
        "colab_type": "code",
        "colab": {
          "autoexec": {
            "startup": false,
            "wait_interval": 0
          },
          "base_uri": "https://localhost:8080/",
          "height": 364
        },
        "outputId": "9adc3881-2ca0-4e3f-b00c-36c47a724829",
        "executionInfo": {
          "status": "ok",
          "timestamp": 1523036035474,
          "user_tz": -330,
          "elapsed": 1053,
          "user": {
            "displayName": "Avinash Selvam",
            "photoUrl": "//lh6.googleusercontent.com/-OWw3sMItg1E/AAAAAAAAAAI/AAAAAAAACUE/mZc3wcAlA_A/s50-c-k-no/photo.jpg",
            "userId": "106485937356478174490"
          }
        }
      },
      "cell_type": "code",
      "source": [
        "plt.imshow(x_test[indices[0][1]].reshape(28, 28))"
      ],
      "execution_count": 65,
      "outputs": [
        {
          "output_type": "execute_result",
          "data": {
            "text/plain": [
              "<matplotlib.image.AxesImage at 0x7f2352b484e0>"
            ]
          },
          "metadata": {
            "tags": []
          },
          "execution_count": 65
        },
        {
          "output_type": "display_data",
          "data": {
            "image/png": "[encoded data removed]",
            "text/plain": [
              "<matplotlib.figure.Figure at 0x7f235308a8d0>"
            ]
          },
          "metadata": {
            "tags": []
          }
        }
      ]
    },
    {
      "metadata": {
        "id": "yXq6k_jWAStB",
        "colab_type": "code",
        "colab": {
          "autoexec": {
            "startup": false,
            "wait_interval": 0
          },
          "base_uri": "https://localhost:8080/",
          "height": 364
        },
        "outputId": "5a83d212-ade8-4801-8075-c6097d065d98",
        "executionInfo": {
          "status": "ok",
          "timestamp": 1523036038478,
          "user_tz": -330,
          "elapsed": 1041,
          "user": {
            "displayName": "Avinash Selvam",
            "photoUrl": "//lh6.googleusercontent.com/-OWw3sMItg1E/AAAAAAAAAAI/AAAAAAAACUE/mZc3wcAlA_A/s50-c-k-no/photo.jpg",
            "userId": "106485937356478174490"
          }
        }
      },
      "cell_type": "code",
      "source": [
        "plt.imshow(x_test[indices[0][2]].reshape(28, 28))"
      ],
      "execution_count": 66,
      "outputs": [
        {
          "output_type": "execute_result",
          "data": {
            "text/plain": [
              "<matplotlib.image.AxesImage at 0x7f2352aa29b0>"
            ]
          },
          "metadata": {
            "tags": []
          },
          "execution_count": 66
        },
        {
          "output_type": "display_data",
          "data": {
            "image/png": "[encoded data removed]",
            "text/plain": [
              "<matplotlib.figure.Figure at 0x7f2353154470>"
            ]
          },
          "metadata": {
            "tags": []
          }
        }
      ]
    },
    {
      "metadata": {
        "id": "lBSD_C0BAa8V",
        "colab_type": "code",
        "colab": {
          "autoexec": {
            "startup": false,
            "wait_interval": 0
          }
        }
      },
      "cell_type": "code",
      "source": [
        "from google.colab import files\n",
        "\n",
        "files.download('mnist_autoencoder.h5')"
      ],
      "execution_count": 0,
      "outputs": []
    },
    {
      "metadata": {
        "id": "5xOcTD7VDFz8",
        "colab_type": "code",
        "colab": {
          "autoexec": {
            "startup": false,
            "wait_interval": 0
          }
        }
      },
      "cell_type": "code",
      "source": [
        ""
      ],
      "execution_count": 0,
      "outputs": []
    }
  ]
}